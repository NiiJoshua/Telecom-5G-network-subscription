{
 "cells": [
  {
   "cell_type": "markdown",
   "id": "48f83bb6",
   "metadata": {},
   "source": [
    "## Library imports"
   ]
  },
  {
   "cell_type": "code",
   "execution_count": 1,
   "id": "eb30305d",
   "metadata": {},
   "outputs": [],
   "source": [
    "import pandas as pd\n",
    "import warnings\n",
    "warnings.filterwarnings('ignore')\n",
    "# from pandas_profiling import ProfileReport\n",
    "#import seaborn as sns\n",
    "import matplotlib.pyplot as plt\n",
    "#import plotly.express as px\n",
    "import numpy as np\n",
    "from sklearn.preprocessing import StandardScaler , OneHotEncoder, LabelEncoder\n",
    "from sklearn.model_selection import train_test_split\n",
    "from sklearn.ensemble import ExtraTreesClassifier\n",
    "import sklearn.decomposition as skde\n",
    "from sklearn.metrics import accuracy_score\n",
    "from sklearn. metrics import classification_report\n",
    "from sklearn.metrics import confusion_matrix\n",
    "from sklearn.metrics import roc_curve\n",
    "from sklearn.model_selection import KFold, GridSearchCV\n",
    "\n",
    "%matplotlib inline"
   ]
  },
  {
   "cell_type": "markdown",
   "id": "5ed60d48",
   "metadata": {},
   "source": [
    "## Understanding the data"
   ]
  },
  {
   "cell_type": "code",
   "execution_count": 2,
   "id": "dbf14e31",
   "metadata": {},
   "outputs": [
    {
     "data": {
      "text/html": [
       "<div>\n",
       "<style scoped>\n",
       "    .dataframe tbody tr th:only-of-type {\n",
       "        vertical-align: middle;\n",
       "    }\n",
       "\n",
       "    .dataframe tbody tr th {\n",
       "        vertical-align: top;\n",
       "    }\n",
       "\n",
       "    .dataframe thead th {\n",
       "        text-align: right;\n",
       "    }\n",
       "</style>\n",
       "<table border=\"1\" class=\"dataframe\">\n",
       "  <thead>\n",
       "    <tr style=\"text-align: right;\">\n",
       "      <th></th>\n",
       "      <th>ID</th>\n",
       "      <th>town</th>\n",
       "      <th>country</th>\n",
       "      <th>age</th>\n",
       "      <th>job</th>\n",
       "      <th>married</th>\n",
       "      <th>education</th>\n",
       "      <th>arrears</th>\n",
       "      <th>current_balance</th>\n",
       "      <th>housing</th>\n",
       "      <th>has_tv_package</th>\n",
       "      <th>last_contact</th>\n",
       "      <th>conn_tr</th>\n",
       "      <th>last_contact_this_campaign_day</th>\n",
       "      <th>last_contact_this_campaign_month</th>\n",
       "      <th>this_campaign</th>\n",
       "      <th>days_since_last_contact_previous_campaign</th>\n",
       "      <th>contacted_during_previous_campaign</th>\n",
       "      <th>outcome_previous_campaign</th>\n",
       "      <th>new_contract_this_campaign</th>\n",
       "    </tr>\n",
       "  </thead>\n",
       "  <tbody>\n",
       "    <tr>\n",
       "      <th>0</th>\n",
       "      <td>32390233</td>\n",
       "      <td>Bristol</td>\n",
       "      <td>UK</td>\n",
       "      <td>39</td>\n",
       "      <td>management</td>\n",
       "      <td>married</td>\n",
       "      <td>tertiary</td>\n",
       "      <td>no</td>\n",
       "      <td>-1.90</td>\n",
       "      <td>no</td>\n",
       "      <td>yes</td>\n",
       "      <td>unknown</td>\n",
       "      <td>4</td>\n",
       "      <td>11</td>\n",
       "      <td>jun</td>\n",
       "      <td>8</td>\n",
       "      <td>-1</td>\n",
       "      <td>0</td>\n",
       "      <td>unknown</td>\n",
       "      <td>yes</td>\n",
       "    </tr>\n",
       "    <tr>\n",
       "      <th>1</th>\n",
       "      <td>41226029</td>\n",
       "      <td>Basildon</td>\n",
       "      <td>UK</td>\n",
       "      <td>53</td>\n",
       "      <td>housemaid</td>\n",
       "      <td>married</td>\n",
       "      <td>primary</td>\n",
       "      <td>no</td>\n",
       "      <td>3.62</td>\n",
       "      <td>no</td>\n",
       "      <td>no</td>\n",
       "      <td>cellular</td>\n",
       "      <td>1</td>\n",
       "      <td>28</td>\n",
       "      <td>jul</td>\n",
       "      <td>2</td>\n",
       "      <td>-1</td>\n",
       "      <td>0</td>\n",
       "      <td>unknown</td>\n",
       "      <td>yes</td>\n",
       "    </tr>\n",
       "    <tr>\n",
       "      <th>2</th>\n",
       "      <td>85498057</td>\n",
       "      <td>Blackburn</td>\n",
       "      <td>UK</td>\n",
       "      <td>79</td>\n",
       "      <td>retired</td>\n",
       "      <td>divorced</td>\n",
       "      <td>primary</td>\n",
       "      <td>no</td>\n",
       "      <td>27.87</td>\n",
       "      <td>no</td>\n",
       "      <td>no</td>\n",
       "      <td>telephone</td>\n",
       "      <td>3</td>\n",
       "      <td>13</td>\n",
       "      <td>jul</td>\n",
       "      <td>1</td>\n",
       "      <td>377</td>\n",
       "      <td>1</td>\n",
       "      <td>success</td>\n",
       "      <td>yes</td>\n",
       "    </tr>\n",
       "    <tr>\n",
       "      <th>3</th>\n",
       "      <td>76539627</td>\n",
       "      <td>Oldham</td>\n",
       "      <td>UK</td>\n",
       "      <td>43</td>\n",
       "      <td>services</td>\n",
       "      <td>single</td>\n",
       "      <td>secondary</td>\n",
       "      <td>no</td>\n",
       "      <td>5.50</td>\n",
       "      <td>yes</td>\n",
       "      <td>no</td>\n",
       "      <td>cellular</td>\n",
       "      <td>3</td>\n",
       "      <td>13</td>\n",
       "      <td>may</td>\n",
       "      <td>2</td>\n",
       "      <td>-1</td>\n",
       "      <td>0</td>\n",
       "      <td>unknown</td>\n",
       "      <td>no</td>\n",
       "    </tr>\n",
       "    <tr>\n",
       "      <th>4</th>\n",
       "      <td>76290986</td>\n",
       "      <td>Middlesbrough</td>\n",
       "      <td>UK</td>\n",
       "      <td>35</td>\n",
       "      <td>technician</td>\n",
       "      <td>single</td>\n",
       "      <td>secondary</td>\n",
       "      <td>no</td>\n",
       "      <td>3.44</td>\n",
       "      <td>no</td>\n",
       "      <td>no</td>\n",
       "      <td>cellular</td>\n",
       "      <td>2</td>\n",
       "      <td>27</td>\n",
       "      <td>aug</td>\n",
       "      <td>16</td>\n",
       "      <td>-1</td>\n",
       "      <td>0</td>\n",
       "      <td>unknown</td>\n",
       "      <td>yes</td>\n",
       "    </tr>\n",
       "  </tbody>\n",
       "</table>\n",
       "</div>"
      ],
      "text/plain": [
       "         ID           town country  age         job   married  education  \\\n",
       "0  32390233        Bristol      UK   39  management   married   tertiary   \n",
       "1  41226029       Basildon      UK   53   housemaid   married    primary   \n",
       "2  85498057      Blackburn      UK   79     retired  divorced    primary   \n",
       "3  76539627         Oldham      UK   43    services    single  secondary   \n",
       "4  76290986  Middlesbrough      UK   35  technician    single  secondary   \n",
       "\n",
       "  arrears  current_balance housing has_tv_package last_contact  conn_tr  \\\n",
       "0      no            -1.90      no            yes      unknown        4   \n",
       "1      no             3.62      no             no     cellular        1   \n",
       "2      no            27.87      no             no    telephone        3   \n",
       "3      no             5.50     yes             no     cellular        3   \n",
       "4      no             3.44      no             no     cellular        2   \n",
       "\n",
       "   last_contact_this_campaign_day last_contact_this_campaign_month  \\\n",
       "0                              11                              jun   \n",
       "1                              28                              jul   \n",
       "2                              13                              jul   \n",
       "3                              13                              may   \n",
       "4                              27                              aug   \n",
       "\n",
       "   this_campaign  days_since_last_contact_previous_campaign  \\\n",
       "0              8                                         -1   \n",
       "1              2                                         -1   \n",
       "2              1                                        377   \n",
       "3              2                                         -1   \n",
       "4             16                                         -1   \n",
       "\n",
       "   contacted_during_previous_campaign outcome_previous_campaign  \\\n",
       "0                                   0                   unknown   \n",
       "1                                   0                   unknown   \n",
       "2                                   1                   success   \n",
       "3                                   0                   unknown   \n",
       "4                                   0                   unknown   \n",
       "\n",
       "  new_contract_this_campaign  \n",
       "0                        yes  \n",
       "1                        yes  \n",
       "2                        yes  \n",
       "3                         no  \n",
       "4                        yes  "
      ]
     },
     "execution_count": 2,
     "metadata": {},
     "output_type": "execute_result"
    }
   ],
   "source": [
    "df = pd.read_csv('stircom.csv')\n",
    "df.head()"
   ]
  },
  {
   "cell_type": "code",
   "execution_count": 3,
   "id": "b9d81263",
   "metadata": {},
   "outputs": [
    {
     "name": "stdout",
     "output_type": "stream",
     "text": [
      "<class 'pandas.core.frame.DataFrame'>\n",
      "RangeIndex: 50662 entries, 0 to 50661\n",
      "Data columns (total 20 columns):\n",
      " #   Column                                     Non-Null Count  Dtype  \n",
      "---  ------                                     --------------  -----  \n",
      " 0   ID                                         50662 non-null  int64  \n",
      " 1   town                                       50662 non-null  object \n",
      " 2   country                                    50662 non-null  object \n",
      " 3   age                                        50662 non-null  int64  \n",
      " 4   job                                        50662 non-null  object \n",
      " 5   married                                    50662 non-null  object \n",
      " 6   education                                  50662 non-null  object \n",
      " 7   arrears                                    50662 non-null  object \n",
      " 8   current_balance                            50662 non-null  float64\n",
      " 9   housing                                    50662 non-null  object \n",
      " 10  has_tv_package                             50662 non-null  object \n",
      " 11  last_contact                               50662 non-null  object \n",
      " 12  conn_tr                                    50662 non-null  int64  \n",
      " 13  last_contact_this_campaign_day             50662 non-null  int64  \n",
      " 14  last_contact_this_campaign_month           50662 non-null  object \n",
      " 15  this_campaign                              50662 non-null  int64  \n",
      " 16  days_since_last_contact_previous_campaign  50662 non-null  int64  \n",
      " 17  contacted_during_previous_campaign         50662 non-null  int64  \n",
      " 18  outcome_previous_campaign                  50662 non-null  object \n",
      " 19  new_contract_this_campaign                 50662 non-null  object \n",
      "dtypes: float64(1), int64(7), object(12)\n",
      "memory usage: 7.7+ MB\n"
     ]
    }
   ],
   "source": [
    "df.info()"
   ]
  },
  {
   "cell_type": "code",
   "execution_count": 4,
   "id": "7c284e8a",
   "metadata": {},
   "outputs": [
    {
     "data": {
      "text/html": [
       "<div>\n",
       "<style scoped>\n",
       "    .dataframe tbody tr th:only-of-type {\n",
       "        vertical-align: middle;\n",
       "    }\n",
       "\n",
       "    .dataframe tbody tr th {\n",
       "        vertical-align: top;\n",
       "    }\n",
       "\n",
       "    .dataframe thead th {\n",
       "        text-align: right;\n",
       "    }\n",
       "</style>\n",
       "<table border=\"1\" class=\"dataframe\">\n",
       "  <thead>\n",
       "    <tr style=\"text-align: right;\">\n",
       "      <th></th>\n",
       "      <th>ID</th>\n",
       "      <th>age</th>\n",
       "      <th>current_balance</th>\n",
       "      <th>conn_tr</th>\n",
       "      <th>last_contact_this_campaign_day</th>\n",
       "      <th>this_campaign</th>\n",
       "      <th>days_since_last_contact_previous_campaign</th>\n",
       "      <th>contacted_during_previous_campaign</th>\n",
       "    </tr>\n",
       "  </thead>\n",
       "  <tbody>\n",
       "    <tr>\n",
       "      <th>count</th>\n",
       "      <td>5.066200e+04</td>\n",
       "      <td>50662.000000</td>\n",
       "      <td>50662.000000</td>\n",
       "      <td>50662.000000</td>\n",
       "      <td>50662.000000</td>\n",
       "      <td>50662.000000</td>\n",
       "      <td>50662.000000</td>\n",
       "      <td>50662.000000</td>\n",
       "    </tr>\n",
       "    <tr>\n",
       "      <th>mean</th>\n",
       "      <td>5.502871e+07</td>\n",
       "      <td>40.979373</td>\n",
       "      <td>13.991210</td>\n",
       "      <td>3.005093</td>\n",
       "      <td>15.768525</td>\n",
       "      <td>2.713217</td>\n",
       "      <td>42.644408</td>\n",
       "      <td>0.640283</td>\n",
       "    </tr>\n",
       "    <tr>\n",
       "      <th>std</th>\n",
       "      <td>2.598596e+07</td>\n",
       "      <td>10.919324</td>\n",
       "      <td>30.899163</td>\n",
       "      <td>1.409003</td>\n",
       "      <td>8.347083</td>\n",
       "      <td>3.052227</td>\n",
       "      <td>102.238078</td>\n",
       "      <td>2.358029</td>\n",
       "    </tr>\n",
       "    <tr>\n",
       "      <th>min</th>\n",
       "      <td>1.000073e+07</td>\n",
       "      <td>18.000000</td>\n",
       "      <td>-80.190000</td>\n",
       "      <td>1.000000</td>\n",
       "      <td>1.000000</td>\n",
       "      <td>1.000000</td>\n",
       "      <td>-1.000000</td>\n",
       "      <td>0.000000</td>\n",
       "    </tr>\n",
       "    <tr>\n",
       "      <th>25%</th>\n",
       "      <td>3.249964e+07</td>\n",
       "      <td>32.000000</td>\n",
       "      <td>0.820000</td>\n",
       "      <td>2.000000</td>\n",
       "      <td>8.000000</td>\n",
       "      <td>1.000000</td>\n",
       "      <td>-1.000000</td>\n",
       "      <td>0.000000</td>\n",
       "    </tr>\n",
       "    <tr>\n",
       "      <th>50%</th>\n",
       "      <td>5.501127e+07</td>\n",
       "      <td>39.000000</td>\n",
       "      <td>4.720000</td>\n",
       "      <td>3.000000</td>\n",
       "      <td>16.000000</td>\n",
       "      <td>2.000000</td>\n",
       "      <td>-1.000000</td>\n",
       "      <td>0.000000</td>\n",
       "    </tr>\n",
       "    <tr>\n",
       "      <th>75%</th>\n",
       "      <td>7.748809e+07</td>\n",
       "      <td>48.000000</td>\n",
       "      <td>14.950000</td>\n",
       "      <td>4.000000</td>\n",
       "      <td>21.000000</td>\n",
       "      <td>3.000000</td>\n",
       "      <td>-1.000000</td>\n",
       "      <td>0.000000</td>\n",
       "    </tr>\n",
       "    <tr>\n",
       "      <th>max</th>\n",
       "      <td>9.999952e+07</td>\n",
       "      <td>95.000000</td>\n",
       "      <td>984.170000</td>\n",
       "      <td>5.000000</td>\n",
       "      <td>31.000000</td>\n",
       "      <td>63.000000</td>\n",
       "      <td>871.000000</td>\n",
       "      <td>275.000000</td>\n",
       "    </tr>\n",
       "  </tbody>\n",
       "</table>\n",
       "</div>"
      ],
      "text/plain": [
       "                 ID           age  current_balance       conn_tr  \\\n",
       "count  5.066200e+04  50662.000000     50662.000000  50662.000000   \n",
       "mean   5.502871e+07     40.979373        13.991210      3.005093   \n",
       "std    2.598596e+07     10.919324        30.899163      1.409003   \n",
       "min    1.000073e+07     18.000000       -80.190000      1.000000   \n",
       "25%    3.249964e+07     32.000000         0.820000      2.000000   \n",
       "50%    5.501127e+07     39.000000         4.720000      3.000000   \n",
       "75%    7.748809e+07     48.000000        14.950000      4.000000   \n",
       "max    9.999952e+07     95.000000       984.170000      5.000000   \n",
       "\n",
       "       last_contact_this_campaign_day  this_campaign  \\\n",
       "count                    50662.000000   50662.000000   \n",
       "mean                        15.768525       2.713217   \n",
       "std                          8.347083       3.052227   \n",
       "min                          1.000000       1.000000   \n",
       "25%                          8.000000       1.000000   \n",
       "50%                         16.000000       2.000000   \n",
       "75%                         21.000000       3.000000   \n",
       "max                         31.000000      63.000000   \n",
       "\n",
       "       days_since_last_contact_previous_campaign  \\\n",
       "count                               50662.000000   \n",
       "mean                                   42.644408   \n",
       "std                                   102.238078   \n",
       "min                                    -1.000000   \n",
       "25%                                    -1.000000   \n",
       "50%                                    -1.000000   \n",
       "75%                                    -1.000000   \n",
       "max                                   871.000000   \n",
       "\n",
       "       contacted_during_previous_campaign  \n",
       "count                        50662.000000  \n",
       "mean                             0.640283  \n",
       "std                              2.358029  \n",
       "min                              0.000000  \n",
       "25%                              0.000000  \n",
       "50%                              0.000000  \n",
       "75%                              0.000000  \n",
       "max                            275.000000  "
      ]
     },
     "execution_count": 4,
     "metadata": {},
     "output_type": "execute_result"
    }
   ],
   "source": [
    "df.describe()\n"
   ]
  },
  {
   "cell_type": "code",
   "execution_count": 5,
   "id": "ad84b507",
   "metadata": {},
   "outputs": [
    {
     "data": {
      "text/plain": [
       "(50662, 20)"
      ]
     },
     "execution_count": 5,
     "metadata": {},
     "output_type": "execute_result"
    }
   ],
   "source": [
    "# Data dimension\n",
    "df.shape"
   ]
  },
  {
   "cell_type": "code",
   "execution_count": 6,
   "id": "c36e0741",
   "metadata": {},
   "outputs": [
    {
     "data": {
      "text/plain": [
       "ID                                           0\n",
       "town                                         0\n",
       "country                                      0\n",
       "age                                          0\n",
       "job                                          0\n",
       "married                                      0\n",
       "education                                    0\n",
       "arrears                                      0\n",
       "current_balance                              0\n",
       "housing                                      0\n",
       "has_tv_package                               0\n",
       "last_contact                                 0\n",
       "conn_tr                                      0\n",
       "last_contact_this_campaign_day               0\n",
       "last_contact_this_campaign_month             0\n",
       "this_campaign                                0\n",
       "days_since_last_contact_previous_campaign    0\n",
       "contacted_during_previous_campaign           0\n",
       "outcome_previous_campaign                    0\n",
       "new_contract_this_campaign                   0\n",
       "dtype: int64"
      ]
     },
     "execution_count": 6,
     "metadata": {},
     "output_type": "execute_result"
    }
   ],
   "source": [
    "# Null counts\n",
    "df.isnull().sum()"
   ]
  },
  {
   "cell_type": "code",
   "execution_count": 7,
   "id": "a12eabbd",
   "metadata": {},
   "outputs": [
    {
     "data": {
      "text/plain": [
       "0"
      ]
     },
     "execution_count": 7,
     "metadata": {},
     "output_type": "execute_result"
    }
   ],
   "source": [
    "# Checking for duplicates\n",
    "df.duplicated().sum()"
   ]
  },
  {
   "cell_type": "code",
   "execution_count": 8,
   "id": "f1c5830d",
   "metadata": {},
   "outputs": [
    {
     "data": {
      "text/plain": [
       "UK          50657\n",
       "France          2\n",
       "Germany         1\n",
       "USA             1\n",
       "Portugal        1\n",
       "Name: country, dtype: int64"
      ]
     },
     "execution_count": 8,
     "metadata": {},
     "output_type": "execute_result"
    }
   ],
   "source": [
    "# Checking for uniqueness of \n",
    "df.country.value_counts()"
   ]
  },
  {
   "cell_type": "raw",
   "id": "80072684",
   "metadata": {},
   "source": [
    "In the country column, there are some countries that are not part of the UK and are a minority, those countries will be eleminated from to have data for only UK"
   ]
  },
  {
   "cell_type": "code",
   "execution_count": 9,
   "id": "eef7c524",
   "metadata": {},
   "outputs": [
    {
     "data": {
      "text/plain": [
       "<AxesSubplot:>"
      ]
     },
     "execution_count": 9,
     "metadata": {},
     "output_type": "execute_result"
    },
    {
     "data": {
      "image/png": "[encoded data removed]",
      "text/plain": [
       "<Figure size 432x288 with 1 Axes>"
      ]
     },
     "metadata": {
      "needs_background": "light"
     },
     "output_type": "display_data"
    }
   ],
   "source": [
    "# Checking for Class imbalance\n",
    "df.new_contract_this_campaign.value_counts().plot(kind='bar')\n",
    "\n",
    "# The data shows class imbalance with more no than yes. When modeling, this will be taken into consideration"
   ]
  },
  {
   "cell_type": "code",
   "execution_count": 10,
   "id": "627f3f2f",
   "metadata": {},
   "outputs": [
    {
     "name": "stdout",
     "output_type": "stream",
     "text": [
      "no     40763\n",
      "yes     9899\n",
      "Name: new_contract_this_campaign, dtype: int64\n"
     ]
    }
   ],
   "source": [
    "class_count = df['new_contract_this_campaign'].value_counts()\n",
    "print(class_count)"
   ]
  },
  {
   "cell_type": "code",
   "execution_count": 11,
   "id": "99cb4fca",
   "metadata": {},
   "outputs": [
    {
     "name": "stdout",
     "output_type": "stream",
     "text": [
      "new_contract_this_campaign    40763\n",
      "dtype: int64\n",
      "new_contract_this_campaign    9899\n",
      "dtype: int64\n"
     ]
    },
    {
     "data": {
      "text/plain": [
       "(None, None)"
      ]
     },
     "execution_count": 11,
     "metadata": {},
     "output_type": "execute_result"
    }
   ],
   "source": [
    "no_count = (df[['new_contract_this_campaign']]=='no').sum()\n",
    "yes_count = (df[['new_contract_this_campaign']]=='yes').sum()\n",
    "\n",
    "print(no_count), print(yes_count)"
   ]
  },
  {
   "cell_type": "code",
   "execution_count": 12,
   "id": "efdef43c",
   "metadata": {},
   "outputs": [
    {
     "name": "stdout",
     "output_type": "stream",
     "text": [
      "Percentage of yes classes: 19.54%\n",
      "Percentage of no classes: 80.46%\n"
     ]
    }
   ],
   "source": [
    "# Calculating percentage of each class\n",
    "total_count = no_count + yes_count\n",
    "\n",
    "print(\"Percentage of yes classes: %.2f%%\" % ((yes_count/total_count) *100))\n",
    "print(\"Percentage of no classes: %.2f%%\" % ((no_count/total_count) *100))"
   ]
  },
  {
   "cell_type": "markdown",
   "id": "2de3bd23",
   "metadata": {},
   "source": [
    "### Data profiling"
   ]
  },
  {
   "cell_type": "raw",
   "id": "9cc58605",
   "metadata": {},
   "source": [
    "profile = ProfileReport(df, title = \"Pandas Profiling Report\")\n",
    "profile"
   ]
  },
  {
   "cell_type": "markdown",
   "id": "6767aa9a",
   "metadata": {},
   "source": [
    "### Data Visualization"
   ]
  },
  {
   "cell_type": "code",
   "execution_count": 13,
   "id": "2e1f3bfb",
   "metadata": {},
   "outputs": [
    {
     "data": {
      "text/html": [
       "<div>\n",
       "<style scoped>\n",
       "    .dataframe tbody tr th:only-of-type {\n",
       "        vertical-align: middle;\n",
       "    }\n",
       "\n",
       "    .dataframe tbody tr th {\n",
       "        vertical-align: top;\n",
       "    }\n",
       "\n",
       "    .dataframe thead th {\n",
       "        text-align: right;\n",
       "    }\n",
       "</style>\n",
       "<table border=\"1\" class=\"dataframe\">\n",
       "  <thead>\n",
       "    <tr style=\"text-align: right;\">\n",
       "      <th></th>\n",
       "      <th>town</th>\n",
       "      <th>age</th>\n",
       "      <th>job</th>\n",
       "      <th>married</th>\n",
       "      <th>education</th>\n",
       "      <th>arrears</th>\n",
       "      <th>current_balance</th>\n",
       "      <th>housing</th>\n",
       "      <th>has_tv_package</th>\n",
       "      <th>last_contact</th>\n",
       "      <th>last_contact_this_campaign_day</th>\n",
       "      <th>last_contact_this_campaign_month</th>\n",
       "      <th>this_campaign</th>\n",
       "      <th>days_since_last_contact_previous_campaign</th>\n",
       "      <th>contacted_during_previous_campaign</th>\n",
       "      <th>outcome_previous_campaign</th>\n",
       "      <th>new_contract_this_campaign</th>\n",
       "    </tr>\n",
       "  </thead>\n",
       "  <tbody>\n",
       "    <tr>\n",
       "      <th>0</th>\n",
       "      <td>Bristol</td>\n",
       "      <td>39</td>\n",
       "      <td>management</td>\n",
       "      <td>married</td>\n",
       "      <td>tertiary</td>\n",
       "      <td>no</td>\n",
       "      <td>-1.90</td>\n",
       "      <td>no</td>\n",
       "      <td>yes</td>\n",
       "      <td>unknown</td>\n",
       "      <td>11</td>\n",
       "      <td>jun</td>\n",
       "      <td>8</td>\n",
       "      <td>-1</td>\n",
       "      <td>0</td>\n",
       "      <td>unknown</td>\n",
       "      <td>yes</td>\n",
       "    </tr>\n",
       "    <tr>\n",
       "      <th>1</th>\n",
       "      <td>Basildon</td>\n",
       "      <td>53</td>\n",
       "      <td>housemaid</td>\n",
       "      <td>married</td>\n",
       "      <td>primary</td>\n",
       "      <td>no</td>\n",
       "      <td>3.62</td>\n",
       "      <td>no</td>\n",
       "      <td>no</td>\n",
       "      <td>cellular</td>\n",
       "      <td>28</td>\n",
       "      <td>jul</td>\n",
       "      <td>2</td>\n",
       "      <td>-1</td>\n",
       "      <td>0</td>\n",
       "      <td>unknown</td>\n",
       "      <td>yes</td>\n",
       "    </tr>\n",
       "    <tr>\n",
       "      <th>2</th>\n",
       "      <td>Blackburn</td>\n",
       "      <td>79</td>\n",
       "      <td>retired</td>\n",
       "      <td>divorced</td>\n",
       "      <td>primary</td>\n",
       "      <td>no</td>\n",
       "      <td>27.87</td>\n",
       "      <td>no</td>\n",
       "      <td>no</td>\n",
       "      <td>telephone</td>\n",
       "      <td>13</td>\n",
       "      <td>jul</td>\n",
       "      <td>1</td>\n",
       "      <td>377</td>\n",
       "      <td>1</td>\n",
       "      <td>success</td>\n",
       "      <td>yes</td>\n",
       "    </tr>\n",
       "    <tr>\n",
       "      <th>3</th>\n",
       "      <td>Oldham</td>\n",
       "      <td>43</td>\n",
       "      <td>services</td>\n",
       "      <td>single</td>\n",
       "      <td>secondary</td>\n",
       "      <td>no</td>\n",
       "      <td>5.50</td>\n",
       "      <td>yes</td>\n",
       "      <td>no</td>\n",
       "      <td>cellular</td>\n",
       "      <td>13</td>\n",
       "      <td>may</td>\n",
       "      <td>2</td>\n",
       "      <td>-1</td>\n",
       "      <td>0</td>\n",
       "      <td>unknown</td>\n",
       "      <td>no</td>\n",
       "    </tr>\n",
       "    <tr>\n",
       "      <th>4</th>\n",
       "      <td>Middlesbrough</td>\n",
       "      <td>35</td>\n",
       "      <td>technician</td>\n",
       "      <td>single</td>\n",
       "      <td>secondary</td>\n",
       "      <td>no</td>\n",
       "      <td>3.44</td>\n",
       "      <td>no</td>\n",
       "      <td>no</td>\n",
       "      <td>cellular</td>\n",
       "      <td>27</td>\n",
       "      <td>aug</td>\n",
       "      <td>16</td>\n",
       "      <td>-1</td>\n",
       "      <td>0</td>\n",
       "      <td>unknown</td>\n",
       "      <td>yes</td>\n",
       "    </tr>\n",
       "  </tbody>\n",
       "</table>\n",
       "</div>"
      ],
      "text/plain": [
       "            town  age         job   married  education arrears  \\\n",
       "0        Bristol   39  management   married   tertiary      no   \n",
       "1       Basildon   53   housemaid   married    primary      no   \n",
       "2      Blackburn   79     retired  divorced    primary      no   \n",
       "3         Oldham   43    services    single  secondary      no   \n",
       "4  Middlesbrough   35  technician    single  secondary      no   \n",
       "\n",
       "   current_balance housing has_tv_package last_contact  \\\n",
       "0            -1.90      no            yes      unknown   \n",
       "1             3.62      no             no     cellular   \n",
       "2            27.87      no             no    telephone   \n",
       "3             5.50     yes             no     cellular   \n",
       "4             3.44      no             no     cellular   \n",
       "\n",
       "   last_contact_this_campaign_day last_contact_this_campaign_month  \\\n",
       "0                              11                              jun   \n",
       "1                              28                              jul   \n",
       "2                              13                              jul   \n",
       "3                              13                              may   \n",
       "4                              27                              aug   \n",
       "\n",
       "   this_campaign  days_since_last_contact_previous_campaign  \\\n",
       "0              8                                         -1   \n",
       "1              2                                         -1   \n",
       "2              1                                        377   \n",
       "3              2                                         -1   \n",
       "4             16                                         -1   \n",
       "\n",
       "   contacted_during_previous_campaign outcome_previous_campaign  \\\n",
       "0                                   0                   unknown   \n",
       "1                                   0                   unknown   \n",
       "2                                   1                   success   \n",
       "3                                   0                   unknown   \n",
       "4                                   0                   unknown   \n",
       "\n",
       "  new_contract_this_campaign  \n",
       "0                        yes  \n",
       "1                        yes  \n",
       "2                        yes  \n",
       "3                         no  \n",
       "4                        yes  "
      ]
     },
     "execution_count": 13,
     "metadata": {},
     "output_type": "execute_result"
    }
   ],
   "source": [
    "# drop ID, country, conn_tr\n",
    "df_new = df.copy()\n",
    "df_new.drop(['ID','country','conn_tr'], axis=1, inplace=True)\n",
    "df_new.head()"
   ]
  },
  {
   "cell_type": "code",
   "execution_count": 14,
   "id": "7ca5e2b0",
   "metadata": {},
   "outputs": [],
   "source": [
    "num_cols = ['age','current_balance','last_contact_this_campaign_day','this_campaign','days_since_last_contact_previous_campaign','contacted_during_previous_campaign']\n",
    "cat_cols = ['town','job','married','education','arrears','housing','has_tv_package','last_contact','last_contact_this_campaign_month','outcome_previous_campaign']\n"
   ]
  },
  {
   "cell_type": "code",
   "execution_count": 15,
   "id": "28ae88c4",
   "metadata": {},
   "outputs": [
    {
     "name": "stdout",
     "output_type": "stream",
     "text": [
      "17\n",
      "6\n",
      "10\n"
     ]
    },
    {
     "data": {
      "text/plain": [
       "(None, None, None)"
      ]
     },
     "execution_count": 15,
     "metadata": {},
     "output_type": "execute_result"
    }
   ],
   "source": [
    "print(len(df_new.columns)) , print(len(num_cols)), print(len(cat_cols))"
   ]
  },
  {
   "cell_type": "markdown",
   "id": "f0421813",
   "metadata": {},
   "source": [
    "### Boxplot of numerical variables to determine outliers"
   ]
  },
  {
   "cell_type": "code",
   "execution_count": 16,
   "id": "97f88e06",
   "metadata": {},
   "outputs": [],
   "source": [
    "df_num = df_new.filter(['age','current_balance','last_contact_this_campaign_day','this_campaign','days_since_last_contact_previous_campaign','contacted_during_previous_campaign'],axis=1).copy()\n",
    "df_cat = df_new.filter(['town','job','married','education','arrears','housing','has_tv_package','last_contact','last_contact_this_campaign_month','outcome_previous_campaign'],axis=1).copy()\n",
    "\n",
    "# def box_plot(df_num,col):\n",
    "#     for col in df_num.columns:\n",
    "#         fig = px.box(df_num, col)\n",
    "#         fig.show()\n",
    "        \n",
    "# box_plot(df_num, df_num.columns)"
   ]
  },
  {
   "cell_type": "markdown",
   "id": "bec4a3df",
   "metadata": {},
   "source": [
    "## Plot of columns againt the label column \n",
    "\n",
    "* The aim of this is to get an understaing of each column compared to label and if they will be good in predicting the label\n",
    "\n",
    "### Plot of numerical variables against the label\n"
   ]
  },
  {
   "cell_type": "raw",
   "id": "cd14e50a",
   "metadata": {},
   "source": [
    "\n",
    "for k in df_num.columns:\n",
    "    fig = px.box(df_new, x='new_contract_this_campaign', y=k)\n",
    "    fig.show()"
   ]
  },
  {
   "cell_type": "markdown",
   "id": "7049bb46",
   "metadata": {},
   "source": [
    "### Treating of outliers. \n",
    "\n",
    "* This will make use of clip properties  of data frame to set all values below 25th percentile to 25th and likewise for the 90th percentile"
   ]
  },
  {
   "cell_type": "code",
   "execution_count": 17,
   "id": "a7ce3cbd",
   "metadata": {},
   "outputs": [],
   "source": [
    "df_num = df_num.clip(lower=df_num.quantile(0.05), upper = df_num.quantile(0.90), axis=1)"
   ]
  },
  {
   "cell_type": "raw",
   "id": "564503ca",
   "metadata": {},
   "source": [
    "box_plot(df_num, df_num.columns)"
   ]
  },
  {
   "cell_type": "raw",
   "id": "93c4e057",
   "metadata": {},
   "source": [
    "\n",
    "for k in df_cat.columns:\n",
    "    fig = px.bar(df_new, y=k)\n",
    "    fig.show()\n",
    "    "
   ]
  },
  {
   "cell_type": "markdown",
   "id": "0b163679",
   "metadata": {},
   "source": [
    "### Performing Standard Scaler"
   ]
  },
  {
   "cell_type": "code",
   "execution_count": 18,
   "id": "5df92797",
   "metadata": {},
   "outputs": [
    {
     "data": {
      "text/html": [
       "<div>\n",
       "<style scoped>\n",
       "    .dataframe tbody tr th:only-of-type {\n",
       "        vertical-align: middle;\n",
       "    }\n",
       "\n",
       "    .dataframe tbody tr th {\n",
       "        vertical-align: top;\n",
       "    }\n",
       "\n",
       "    .dataframe thead th {\n",
       "        text-align: right;\n",
       "    }\n",
       "</style>\n",
       "<table border=\"1\" class=\"dataframe\">\n",
       "  <thead>\n",
       "    <tr style=\"text-align: right;\">\n",
       "      <th></th>\n",
       "      <th>age</th>\n",
       "      <th>current_balance</th>\n",
       "      <th>last_contact_this_campaign_day</th>\n",
       "      <th>this_campaign</th>\n",
       "      <th>days_since_last_contact_previous_campaign</th>\n",
       "      <th>contacted_during_previous_campaign</th>\n",
       "    </tr>\n",
       "  </thead>\n",
       "  <tbody>\n",
       "    <tr>\n",
       "      <th>0</th>\n",
       "      <td>39</td>\n",
       "      <td>-1.49</td>\n",
       "      <td>11</td>\n",
       "      <td>5</td>\n",
       "      <td>-1</td>\n",
       "      <td>0</td>\n",
       "    </tr>\n",
       "    <tr>\n",
       "      <th>1</th>\n",
       "      <td>53</td>\n",
       "      <td>3.62</td>\n",
       "      <td>28</td>\n",
       "      <td>2</td>\n",
       "      <td>-1</td>\n",
       "      <td>0</td>\n",
       "    </tr>\n",
       "    <tr>\n",
       "      <th>2</th>\n",
       "      <td>56</td>\n",
       "      <td>27.87</td>\n",
       "      <td>13</td>\n",
       "      <td>1</td>\n",
       "      <td>187</td>\n",
       "      <td>1</td>\n",
       "    </tr>\n",
       "    <tr>\n",
       "      <th>3</th>\n",
       "      <td>43</td>\n",
       "      <td>5.50</td>\n",
       "      <td>13</td>\n",
       "      <td>2</td>\n",
       "      <td>-1</td>\n",
       "      <td>0</td>\n",
       "    </tr>\n",
       "    <tr>\n",
       "      <th>4</th>\n",
       "      <td>35</td>\n",
       "      <td>3.44</td>\n",
       "      <td>27</td>\n",
       "      <td>5</td>\n",
       "      <td>-1</td>\n",
       "      <td>0</td>\n",
       "    </tr>\n",
       "  </tbody>\n",
       "</table>\n",
       "</div>"
      ],
      "text/plain": [
       "   age  current_balance  last_contact_this_campaign_day  this_campaign  \\\n",
       "0   39            -1.49                              11              5   \n",
       "1   53             3.62                              28              2   \n",
       "2   56            27.87                              13              1   \n",
       "3   43             5.50                              13              2   \n",
       "4   35             3.44                              27              5   \n",
       "\n",
       "   days_since_last_contact_previous_campaign  \\\n",
       "0                                         -1   \n",
       "1                                         -1   \n",
       "2                                        187   \n",
       "3                                         -1   \n",
       "4                                         -1   \n",
       "\n",
       "   contacted_during_previous_campaign  \n",
       "0                                   0  \n",
       "1                                   0  \n",
       "2                                   1  \n",
       "3                                   0  \n",
       "4                                   0  "
      ]
     },
     "execution_count": 18,
     "metadata": {},
     "output_type": "execute_result"
    }
   ],
   "source": [
    "df_num.head()"
   ]
  },
  {
   "cell_type": "code",
   "execution_count": 19,
   "id": "c0b4d66e",
   "metadata": {},
   "outputs": [
    {
     "data": {
      "text/html": [
       "<div>\n",
       "<style scoped>\n",
       "    .dataframe tbody tr th:only-of-type {\n",
       "        vertical-align: middle;\n",
       "    }\n",
       "\n",
       "    .dataframe tbody tr th {\n",
       "        vertical-align: top;\n",
       "    }\n",
       "\n",
       "    .dataframe thead th {\n",
       "        text-align: right;\n",
       "    }\n",
       "</style>\n",
       "<table border=\"1\" class=\"dataframe\">\n",
       "  <thead>\n",
       "    <tr style=\"text-align: right;\">\n",
       "      <th></th>\n",
       "      <th>age</th>\n",
       "      <th>current_balance</th>\n",
       "      <th>last_contact_this_campaign_day</th>\n",
       "      <th>this_campaign</th>\n",
       "      <th>days_since_last_contact_previous_campaign</th>\n",
       "      <th>contacted_during_previous_campaign</th>\n",
       "    </tr>\n",
       "  </thead>\n",
       "  <tbody>\n",
       "    <tr>\n",
       "      <th>count</th>\n",
       "      <td>50662.000000</td>\n",
       "      <td>50662.000000</td>\n",
       "      <td>50662.000000</td>\n",
       "      <td>50662.000000</td>\n",
       "      <td>50662.000000</td>\n",
       "      <td>50662.000000</td>\n",
       "    </tr>\n",
       "    <tr>\n",
       "      <th>mean</th>\n",
       "      <td>40.456437</td>\n",
       "      <td>9.942657</td>\n",
       "      <td>15.662410</td>\n",
       "      <td>2.265584</td>\n",
       "      <td>30.173542</td>\n",
       "      <td>0.332083</td>\n",
       "    </tr>\n",
       "    <tr>\n",
       "      <th>std</th>\n",
       "      <td>9.477336</td>\n",
       "      <td>12.096474</td>\n",
       "      <td>8.025547</td>\n",
       "      <td>1.385914</td>\n",
       "      <td>65.894966</td>\n",
       "      <td>0.699339</td>\n",
       "    </tr>\n",
       "    <tr>\n",
       "      <th>min</th>\n",
       "      <td>26.000000</td>\n",
       "      <td>-1.490000</td>\n",
       "      <td>3.000000</td>\n",
       "      <td>1.000000</td>\n",
       "      <td>-1.000000</td>\n",
       "      <td>0.000000</td>\n",
       "    </tr>\n",
       "    <tr>\n",
       "      <th>25%</th>\n",
       "      <td>32.000000</td>\n",
       "      <td>0.820000</td>\n",
       "      <td>8.000000</td>\n",
       "      <td>1.000000</td>\n",
       "      <td>-1.000000</td>\n",
       "      <td>0.000000</td>\n",
       "    </tr>\n",
       "    <tr>\n",
       "      <th>50%</th>\n",
       "      <td>39.000000</td>\n",
       "      <td>4.720000</td>\n",
       "      <td>16.000000</td>\n",
       "      <td>2.000000</td>\n",
       "      <td>-1.000000</td>\n",
       "      <td>0.000000</td>\n",
       "    </tr>\n",
       "    <tr>\n",
       "      <th>75%</th>\n",
       "      <td>48.000000</td>\n",
       "      <td>14.950000</td>\n",
       "      <td>21.000000</td>\n",
       "      <td>3.000000</td>\n",
       "      <td>-1.000000</td>\n",
       "      <td>0.000000</td>\n",
       "    </tr>\n",
       "    <tr>\n",
       "      <th>max</th>\n",
       "      <td>56.000000</td>\n",
       "      <td>36.580000</td>\n",
       "      <td>28.000000</td>\n",
       "      <td>5.000000</td>\n",
       "      <td>187.000000</td>\n",
       "      <td>2.000000</td>\n",
       "    </tr>\n",
       "  </tbody>\n",
       "</table>\n",
       "</div>"
      ],
      "text/plain": [
       "                age  current_balance  last_contact_this_campaign_day  \\\n",
       "count  50662.000000     50662.000000                    50662.000000   \n",
       "mean      40.456437         9.942657                       15.662410   \n",
       "std        9.477336        12.096474                        8.025547   \n",
       "min       26.000000        -1.490000                        3.000000   \n",
       "25%       32.000000         0.820000                        8.000000   \n",
       "50%       39.000000         4.720000                       16.000000   \n",
       "75%       48.000000        14.950000                       21.000000   \n",
       "max       56.000000        36.580000                       28.000000   \n",
       "\n",
       "       this_campaign  days_since_last_contact_previous_campaign  \\\n",
       "count   50662.000000                               50662.000000   \n",
       "mean        2.265584                                  30.173542   \n",
       "std         1.385914                                  65.894966   \n",
       "min         1.000000                                  -1.000000   \n",
       "25%         1.000000                                  -1.000000   \n",
       "50%         2.000000                                  -1.000000   \n",
       "75%         3.000000                                  -1.000000   \n",
       "max         5.000000                                 187.000000   \n",
       "\n",
       "       contacted_during_previous_campaign  \n",
       "count                        50662.000000  \n",
       "mean                             0.332083  \n",
       "std                              0.699339  \n",
       "min                              0.000000  \n",
       "25%                              0.000000  \n",
       "50%                              0.000000  \n",
       "75%                              0.000000  \n",
       "max                              2.000000  "
      ]
     },
     "execution_count": 19,
     "metadata": {},
     "output_type": "execute_result"
    }
   ],
   "source": [
    "df_num.describe()"
   ]
  },
  {
   "cell_type": "code",
   "execution_count": 20,
   "id": "f20a9e40",
   "metadata": {},
   "outputs": [
    {
     "data": {
      "text/html": [
       "<div>\n",
       "<style scoped>\n",
       "    .dataframe tbody tr th:only-of-type {\n",
       "        vertical-align: middle;\n",
       "    }\n",
       "\n",
       "    .dataframe tbody tr th {\n",
       "        vertical-align: top;\n",
       "    }\n",
       "\n",
       "    .dataframe thead th {\n",
       "        text-align: right;\n",
       "    }\n",
       "</style>\n",
       "<table border=\"1\" class=\"dataframe\">\n",
       "  <thead>\n",
       "    <tr style=\"text-align: right;\">\n",
       "      <th></th>\n",
       "      <th>age</th>\n",
       "      <th>current_balance</th>\n",
       "      <th>last_contact_this_campaign_day</th>\n",
       "      <th>this_campaign</th>\n",
       "      <th>days_since_last_contact_previous_campaign</th>\n",
       "      <th>contacted_during_previous_campaign</th>\n",
       "    </tr>\n",
       "  </thead>\n",
       "  <tbody>\n",
       "    <tr>\n",
       "      <th>0</th>\n",
       "      <td>-0.153677</td>\n",
       "      <td>-0.945132</td>\n",
       "      <td>-0.580952</td>\n",
       "      <td>1.973025</td>\n",
       "      <td>-0.473084</td>\n",
       "      <td>-0.474858</td>\n",
       "    </tr>\n",
       "    <tr>\n",
       "      <th>1</th>\n",
       "      <td>1.323546</td>\n",
       "      <td>-0.522691</td>\n",
       "      <td>1.537305</td>\n",
       "      <td>-0.191633</td>\n",
       "      <td>-0.473084</td>\n",
       "      <td>-0.474858</td>\n",
       "    </tr>\n",
       "    <tr>\n",
       "      <th>2</th>\n",
       "      <td>1.640094</td>\n",
       "      <td>1.482045</td>\n",
       "      <td>-0.331745</td>\n",
       "      <td>-0.913185</td>\n",
       "      <td>2.379969</td>\n",
       "      <td>0.955078</td>\n",
       "    </tr>\n",
       "    <tr>\n",
       "      <th>3</th>\n",
       "      <td>0.268386</td>\n",
       "      <td>-0.367272</td>\n",
       "      <td>-0.331745</td>\n",
       "      <td>-0.191633</td>\n",
       "      <td>-0.473084</td>\n",
       "      <td>-0.474858</td>\n",
       "    </tr>\n",
       "    <tr>\n",
       "      <th>4</th>\n",
       "      <td>-0.575741</td>\n",
       "      <td>-0.537572</td>\n",
       "      <td>1.412701</td>\n",
       "      <td>1.973025</td>\n",
       "      <td>-0.473084</td>\n",
       "      <td>-0.474858</td>\n",
       "    </tr>\n",
       "  </tbody>\n",
       "</table>\n",
       "</div>"
      ],
      "text/plain": [
       "        age  current_balance  last_contact_this_campaign_day  this_campaign  \\\n",
       "0 -0.153677        -0.945132                       -0.580952       1.973025   \n",
       "1  1.323546        -0.522691                        1.537305      -0.191633   \n",
       "2  1.640094         1.482045                       -0.331745      -0.913185   \n",
       "3  0.268386        -0.367272                       -0.331745      -0.191633   \n",
       "4 -0.575741        -0.537572                        1.412701       1.973025   \n",
       "\n",
       "   days_since_last_contact_previous_campaign  \\\n",
       "0                                  -0.473084   \n",
       "1                                  -0.473084   \n",
       "2                                   2.379969   \n",
       "3                                  -0.473084   \n",
       "4                                  -0.473084   \n",
       "\n",
       "   contacted_during_previous_campaign  \n",
       "0                           -0.474858  \n",
       "1                           -0.474858  \n",
       "2                            0.955078  \n",
       "3                           -0.474858  \n",
       "4                           -0.474858  "
      ]
     },
     "execution_count": 20,
     "metadata": {},
     "output_type": "execute_result"
    }
   ],
   "source": [
    "scaler = StandardScaler()\n",
    "df_num = pd.DataFrame(scaler.fit_transform(df_num), columns = df_num.columns)\n",
    "# Features[:, 0:10]\n",
    "df_num.head()"
   ]
  },
  {
   "cell_type": "code",
   "execution_count": 21,
   "id": "0e977960",
   "metadata": {},
   "outputs": [],
   "source": [
    "le = LabelEncoder()\n",
    "for col in df_cat.columns:\n",
    "    df_cat[col] = le.fit_transform(df_cat[col])"
   ]
  },
  {
   "cell_type": "code",
   "execution_count": 22,
   "id": "b34b7fb0",
   "metadata": {},
   "outputs": [
    {
     "data": {
      "text/html": [
       "<div>\n",
       "<style scoped>\n",
       "    .dataframe tbody tr th:only-of-type {\n",
       "        vertical-align: middle;\n",
       "    }\n",
       "\n",
       "    .dataframe tbody tr th {\n",
       "        vertical-align: top;\n",
       "    }\n",
       "\n",
       "    .dataframe thead th {\n",
       "        text-align: right;\n",
       "    }\n",
       "</style>\n",
       "<table border=\"1\" class=\"dataframe\">\n",
       "  <thead>\n",
       "    <tr style=\"text-align: right;\">\n",
       "      <th></th>\n",
       "      <th>town</th>\n",
       "      <th>job</th>\n",
       "      <th>married</th>\n",
       "      <th>education</th>\n",
       "      <th>arrears</th>\n",
       "      <th>housing</th>\n",
       "      <th>has_tv_package</th>\n",
       "      <th>last_contact</th>\n",
       "      <th>last_contact_this_campaign_month</th>\n",
       "      <th>outcome_previous_campaign</th>\n",
       "    </tr>\n",
       "  </thead>\n",
       "  <tbody>\n",
       "    <tr>\n",
       "      <th>0</th>\n",
       "      <td>15</td>\n",
       "      <td>4</td>\n",
       "      <td>1</td>\n",
       "      <td>2</td>\n",
       "      <td>0</td>\n",
       "      <td>0</td>\n",
       "      <td>2</td>\n",
       "      <td>3</td>\n",
       "      <td>7</td>\n",
       "      <td>3</td>\n",
       "    </tr>\n",
       "    <tr>\n",
       "      <th>1</th>\n",
       "      <td>2</td>\n",
       "      <td>3</td>\n",
       "      <td>1</td>\n",
       "      <td>0</td>\n",
       "      <td>0</td>\n",
       "      <td>0</td>\n",
       "      <td>1</td>\n",
       "      <td>1</td>\n",
       "      <td>6</td>\n",
       "      <td>3</td>\n",
       "    </tr>\n",
       "    <tr>\n",
       "      <th>2</th>\n",
       "      <td>9</td>\n",
       "      <td>5</td>\n",
       "      <td>0</td>\n",
       "      <td>0</td>\n",
       "      <td>0</td>\n",
       "      <td>0</td>\n",
       "      <td>1</td>\n",
       "      <td>2</td>\n",
       "      <td>6</td>\n",
       "      <td>2</td>\n",
       "    </tr>\n",
       "    <tr>\n",
       "      <th>3</th>\n",
       "      <td>62</td>\n",
       "      <td>7</td>\n",
       "      <td>2</td>\n",
       "      <td>1</td>\n",
       "      <td>0</td>\n",
       "      <td>1</td>\n",
       "      <td>1</td>\n",
       "      <td>1</td>\n",
       "      <td>9</td>\n",
       "      <td>3</td>\n",
       "    </tr>\n",
       "    <tr>\n",
       "      <th>4</th>\n",
       "      <td>54</td>\n",
       "      <td>9</td>\n",
       "      <td>2</td>\n",
       "      <td>1</td>\n",
       "      <td>0</td>\n",
       "      <td>0</td>\n",
       "      <td>1</td>\n",
       "      <td>1</td>\n",
       "      <td>1</td>\n",
       "      <td>3</td>\n",
       "    </tr>\n",
       "  </tbody>\n",
       "</table>\n",
       "</div>"
      ],
      "text/plain": [
       "   town  job  married  education  arrears  housing  has_tv_package  \\\n",
       "0    15    4        1          2        0        0               2   \n",
       "1     2    3        1          0        0        0               1   \n",
       "2     9    5        0          0        0        0               1   \n",
       "3    62    7        2          1        0        1               1   \n",
       "4    54    9        2          1        0        0               1   \n",
       "\n",
       "   last_contact  last_contact_this_campaign_month  outcome_previous_campaign  \n",
       "0             3                                 7                          3  \n",
       "1             1                                 6                          3  \n",
       "2             2                                 6                          2  \n",
       "3             1                                 9                          3  \n",
       "4             1                                 1                          3  "
      ]
     },
     "execution_count": 22,
     "metadata": {},
     "output_type": "execute_result"
    }
   ],
   "source": [
    "# df_cat = pd.get_dummies(df_cat, columns = df_cat.columns)\n",
    "df_cat.head()"
   ]
  },
  {
   "cell_type": "code",
   "execution_count": 23,
   "id": "6a8f9c90",
   "metadata": {},
   "outputs": [
    {
     "data": {
      "text/plain": [
       "3    40614\n",
       "0     5498\n",
       "2     2406\n",
       "1     2144\n",
       "Name: outcome_previous_campaign, dtype: int64"
      ]
     },
     "execution_count": 23,
     "metadata": {},
     "output_type": "execute_result"
    }
   ],
   "source": [
    "df_cat['outcome_previous_campaign'].value_counts()"
   ]
  },
  {
   "cell_type": "raw",
   "id": "3d1af973",
   "metadata": {},
   "source": [
    "drop:\n",
    "Categorical feature: Due to variations it will introduce in the data after OHE\n",
    "1. outcome_previous_campaign\n",
    "2. Town"
   ]
  },
  {
   "cell_type": "code",
   "execution_count": 24,
   "id": "a72cd9df",
   "metadata": {},
   "outputs": [
    {
     "data": {
      "text/plain": [
       "(50662, 10)"
      ]
     },
     "execution_count": 24,
     "metadata": {},
     "output_type": "execute_result"
    }
   ],
   "source": [
    "df_cat.shape"
   ]
  },
  {
   "cell_type": "code",
   "execution_count": 25,
   "id": "a5c2b479",
   "metadata": {},
   "outputs": [
    {
     "data": {
      "text/plain": [
       "(50662, 6)"
      ]
     },
     "execution_count": 25,
     "metadata": {},
     "output_type": "execute_result"
    }
   ],
   "source": [
    "df_num.shape"
   ]
  },
  {
   "cell_type": "code",
   "execution_count": 26,
   "id": "1214cfb4",
   "metadata": {},
   "outputs": [
    {
     "name": "stdout",
     "output_type": "stream",
     "text": [
      "(50662, 16)\n",
      "(50662, 1)\n"
     ]
    }
   ],
   "source": [
    "Features = pd.concat([df_cat,df_num], join='outer', axis=1)\n",
    "label = df.filter(['new_contract_this_campaign'])\n",
    "print(Features.shape)\n",
    "print(label.shape)"
   ]
  },
  {
   "cell_type": "code",
   "execution_count": 27,
   "id": "6785897b",
   "metadata": {},
   "outputs": [
    {
     "data": {
      "text/html": [
       "<div>\n",
       "<style scoped>\n",
       "    .dataframe tbody tr th:only-of-type {\n",
       "        vertical-align: middle;\n",
       "    }\n",
       "\n",
       "    .dataframe tbody tr th {\n",
       "        vertical-align: top;\n",
       "    }\n",
       "\n",
       "    .dataframe thead th {\n",
       "        text-align: right;\n",
       "    }\n",
       "</style>\n",
       "<table border=\"1\" class=\"dataframe\">\n",
       "  <thead>\n",
       "    <tr style=\"text-align: right;\">\n",
       "      <th></th>\n",
       "      <th>town</th>\n",
       "      <th>job</th>\n",
       "      <th>married</th>\n",
       "      <th>education</th>\n",
       "      <th>arrears</th>\n",
       "      <th>housing</th>\n",
       "      <th>has_tv_package</th>\n",
       "      <th>last_contact</th>\n",
       "      <th>last_contact_this_campaign_month</th>\n",
       "      <th>outcome_previous_campaign</th>\n",
       "      <th>age</th>\n",
       "      <th>current_balance</th>\n",
       "      <th>last_contact_this_campaign_day</th>\n",
       "      <th>this_campaign</th>\n",
       "      <th>days_since_last_contact_previous_campaign</th>\n",
       "      <th>contacted_during_previous_campaign</th>\n",
       "    </tr>\n",
       "  </thead>\n",
       "  <tbody>\n",
       "    <tr>\n",
       "      <th>0</th>\n",
       "      <td>-1.141491</td>\n",
       "      <td>-0.113881</td>\n",
       "      <td>-0.28712</td>\n",
       "      <td>1.020059</td>\n",
       "      <td>-0.13203</td>\n",
       "      <td>-1.078857</td>\n",
       "      <td>2.348441</td>\n",
       "      <td>1.574527</td>\n",
       "      <td>0.220321</td>\n",
       "      <td>0.461409</td>\n",
       "      <td>-0.153677</td>\n",
       "      <td>-0.945132</td>\n",
       "      <td>-0.580952</td>\n",
       "      <td>1.973025</td>\n",
       "      <td>-0.473084</td>\n",
       "      <td>-0.474858</td>\n",
       "    </tr>\n",
       "    <tr>\n",
       "      <th>1</th>\n",
       "      <td>-1.606911</td>\n",
       "      <td>-0.420163</td>\n",
       "      <td>-0.28712</td>\n",
       "      <td>-1.655352</td>\n",
       "      <td>-0.13203</td>\n",
       "      <td>-1.078857</td>\n",
       "      <td>-0.425168</td>\n",
       "      <td>-0.688158</td>\n",
       "      <td>-0.070588</td>\n",
       "      <td>0.461409</td>\n",
       "      <td>1.323546</td>\n",
       "      <td>-0.522691</td>\n",
       "      <td>1.537305</td>\n",
       "      <td>-0.191633</td>\n",
       "      <td>-0.473084</td>\n",
       "      <td>-0.474858</td>\n",
       "    </tr>\n",
       "    <tr>\n",
       "      <th>2</th>\n",
       "      <td>-1.356300</td>\n",
       "      <td>0.192401</td>\n",
       "      <td>-1.91803</td>\n",
       "      <td>-1.655352</td>\n",
       "      <td>-0.13203</td>\n",
       "      <td>-1.078857</td>\n",
       "      <td>-0.425168</td>\n",
       "      <td>0.443185</td>\n",
       "      <td>-0.070588</td>\n",
       "      <td>-0.546694</td>\n",
       "      <td>1.640094</td>\n",
       "      <td>1.482045</td>\n",
       "      <td>-0.331745</td>\n",
       "      <td>-0.913185</td>\n",
       "      <td>2.379969</td>\n",
       "      <td>0.955078</td>\n",
       "    </tr>\n",
       "    <tr>\n",
       "      <th>3</th>\n",
       "      <td>0.541180</td>\n",
       "      <td>0.804965</td>\n",
       "      <td>1.34379</td>\n",
       "      <td>-0.317646</td>\n",
       "      <td>-0.13203</td>\n",
       "      <td>0.926907</td>\n",
       "      <td>-0.425168</td>\n",
       "      <td>-0.688158</td>\n",
       "      <td>0.802141</td>\n",
       "      <td>0.461409</td>\n",
       "      <td>0.268386</td>\n",
       "      <td>-0.367272</td>\n",
       "      <td>-0.331745</td>\n",
       "      <td>-0.191633</td>\n",
       "      <td>-0.473084</td>\n",
       "      <td>-0.474858</td>\n",
       "    </tr>\n",
       "    <tr>\n",
       "      <th>4</th>\n",
       "      <td>0.254768</td>\n",
       "      <td>1.417529</td>\n",
       "      <td>1.34379</td>\n",
       "      <td>-0.317646</td>\n",
       "      <td>-0.13203</td>\n",
       "      <td>-1.078857</td>\n",
       "      <td>-0.425168</td>\n",
       "      <td>-0.688158</td>\n",
       "      <td>-1.525137</td>\n",
       "      <td>0.461409</td>\n",
       "      <td>-0.575741</td>\n",
       "      <td>-0.537572</td>\n",
       "      <td>1.412701</td>\n",
       "      <td>1.973025</td>\n",
       "      <td>-0.473084</td>\n",
       "      <td>-0.474858</td>\n",
       "    </tr>\n",
       "  </tbody>\n",
       "</table>\n",
       "</div>"
      ],
      "text/plain": [
       "       town       job  married  education  arrears   housing  has_tv_package  \\\n",
       "0 -1.141491 -0.113881 -0.28712   1.020059 -0.13203 -1.078857        2.348441   \n",
       "1 -1.606911 -0.420163 -0.28712  -1.655352 -0.13203 -1.078857       -0.425168   \n",
       "2 -1.356300  0.192401 -1.91803  -1.655352 -0.13203 -1.078857       -0.425168   \n",
       "3  0.541180  0.804965  1.34379  -0.317646 -0.13203  0.926907       -0.425168   \n",
       "4  0.254768  1.417529  1.34379  -0.317646 -0.13203 -1.078857       -0.425168   \n",
       "\n",
       "   last_contact  last_contact_this_campaign_month  outcome_previous_campaign  \\\n",
       "0      1.574527                          0.220321                   0.461409   \n",
       "1     -0.688158                         -0.070588                   0.461409   \n",
       "2      0.443185                         -0.070588                  -0.546694   \n",
       "3     -0.688158                          0.802141                   0.461409   \n",
       "4     -0.688158                         -1.525137                   0.461409   \n",
       "\n",
       "        age  current_balance  last_contact_this_campaign_day  this_campaign  \\\n",
       "0 -0.153677        -0.945132                       -0.580952       1.973025   \n",
       "1  1.323546        -0.522691                        1.537305      -0.191633   \n",
       "2  1.640094         1.482045                       -0.331745      -0.913185   \n",
       "3  0.268386        -0.367272                       -0.331745      -0.191633   \n",
       "4 -0.575741        -0.537572                        1.412701       1.973025   \n",
       "\n",
       "   days_since_last_contact_previous_campaign  \\\n",
       "0                                  -0.473084   \n",
       "1                                  -0.473084   \n",
       "2                                   2.379969   \n",
       "3                                  -0.473084   \n",
       "4                                  -0.473084   \n",
       "\n",
       "   contacted_during_previous_campaign  \n",
       "0                           -0.474858  \n",
       "1                           -0.474858  \n",
       "2                            0.955078  \n",
       "3                           -0.474858  \n",
       "4                           -0.474858  "
      ]
     },
     "execution_count": 27,
     "metadata": {},
     "output_type": "execute_result"
    }
   ],
   "source": [
    "scaler = StandardScaler()\n",
    "Features = pd.DataFrame(scaler.fit_transform(Features), columns = Features.columns)\n",
    "# Features[:, 0:10]\n",
    "Features.head()"
   ]
  },
  {
   "cell_type": "code",
   "execution_count": 28,
   "id": "597ddab3",
   "metadata": {},
   "outputs": [
    {
     "data": {
      "text/plain": [
       "(50662, 16)"
      ]
     },
     "execution_count": 28,
     "metadata": {},
     "output_type": "execute_result"
    }
   ],
   "source": [
    "X = Features\n",
    "X.shape"
   ]
  },
  {
   "cell_type": "code",
   "execution_count": 31,
   "id": "fee2f97d",
   "metadata": {},
   "outputs": [
    {
     "data": {
      "text/html": [
       "<div>\n",
       "<style scoped>\n",
       "    .dataframe tbody tr th:only-of-type {\n",
       "        vertical-align: middle;\n",
       "    }\n",
       "\n",
       "    .dataframe tbody tr th {\n",
       "        vertical-align: top;\n",
       "    }\n",
       "\n",
       "    .dataframe thead th {\n",
       "        text-align: right;\n",
       "    }\n",
       "</style>\n",
       "<table border=\"1\" class=\"dataframe\">\n",
       "  <thead>\n",
       "    <tr style=\"text-align: right;\">\n",
       "      <th></th>\n",
       "      <th>new_contract_this_campaign</th>\n",
       "    </tr>\n",
       "  </thead>\n",
       "  <tbody>\n",
       "    <tr>\n",
       "      <th>0</th>\n",
       "      <td>1</td>\n",
       "    </tr>\n",
       "    <tr>\n",
       "      <th>1</th>\n",
       "      <td>1</td>\n",
       "    </tr>\n",
       "    <tr>\n",
       "      <th>2</th>\n",
       "      <td>1</td>\n",
       "    </tr>\n",
       "    <tr>\n",
       "      <th>3</th>\n",
       "      <td>0</td>\n",
       "    </tr>\n",
       "    <tr>\n",
       "      <th>4</th>\n",
       "      <td>1</td>\n",
       "    </tr>\n",
       "  </tbody>\n",
       "</table>\n",
       "</div>"
      ],
      "text/plain": [
       "   new_contract_this_campaign\n",
       "0                           1\n",
       "1                           1\n",
       "2                           1\n",
       "3                           0\n",
       "4                           1"
      ]
     },
     "execution_count": 31,
     "metadata": {},
     "output_type": "execute_result"
    }
   ],
   "source": [
    "label['new_contract_this_campaign'] = label['new_contract_this_campaign'].replace(['yes','no'], [1,0])\n",
    "label.head()"
   ]
  },
  {
   "cell_type": "code",
   "execution_count": 32,
   "id": "1b506b81",
   "metadata": {},
   "outputs": [
    {
     "data": {
      "text/plain": [
       "(50662, 1)"
      ]
     },
     "execution_count": 32,
     "metadata": {},
     "output_type": "execute_result"
    }
   ],
   "source": [
    "y = label\n",
    "y.shape"
   ]
  },
  {
   "cell_type": "code",
   "execution_count": 33,
   "id": "460db26b",
   "metadata": {},
   "outputs": [],
   "source": [
    "# Randomly split data\n",
    "X_train, X_test, y_train, y_test = train_test_split(X,y, test_size=0.3, random_state=0)"
   ]
  },
  {
   "cell_type": "markdown",
   "id": "6fc75f7b",
   "metadata": {},
   "source": [
    "## Feature importance selection methods\n",
    "\n",
    "Methods 1: Scree Plot"
   ]
  },
  {
   "cell_type": "code",
   "execution_count": 34,
   "id": "f6d4aa8c",
   "metadata": {},
   "outputs": [
    {
     "data": {
      "text/plain": [
       "PCA()"
      ]
     },
     "execution_count": 34,
     "metadata": {},
     "output_type": "execute_result"
    }
   ],
   "source": [
    "pca_mod = skde.PCA()\n",
    "pca_comps = pca_mod.fit(X_train)\n",
    "pca_comps"
   ]
  },
  {
   "cell_type": "raw",
   "id": "ce7a2d0c",
   "metadata": {},
   "source": [
    "# Drawing a scree plot to tell how many features are really relevant\n",
    "import matplotlib.pyplot as plt\n",
    "\n",
    "def plot_explained(mod):\n",
    "    comps = mod.explained_variance_ratio_\n",
    "    x = range(len(comps))\n",
    "    y = [y + 1 for y in x]\n",
    "    plt.plot(x, comps)\n",
    "    \n",
    "plot_explained(pca_comps)"
   ]
  },
  {
   "cell_type": "code",
   "execution_count": null,
   "id": "f844de76",
   "metadata": {},
   "outputs": [],
   "source": [
    "Features.head()"
   ]
  },
  {
   "cell_type": "markdown",
   "id": "3476b167",
   "metadata": {},
   "source": [
    "#### Mtehod 2: Extra Trees"
   ]
  },
  {
   "cell_type": "code",
   "execution_count": null,
   "id": "65ebdaef",
   "metadata": {},
   "outputs": [],
   "source": [
    "model = ExtraTreesClassifier()\n",
    "model.fit(Features, label)"
   ]
  },
  {
   "cell_type": "code",
   "execution_count": null,
   "id": "e3adee06",
   "metadata": {},
   "outputs": [],
   "source": [
    "feat_importances = pd.DataFrame(model.feature_importances_,index=Features.columns)"
   ]
  },
  {
   "cell_type": "code",
   "execution_count": null,
   "id": "180234af",
   "metadata": {},
   "outputs": [],
   "source": [
    "feat_importances.reset_index(inplace=True)"
   ]
  },
  {
   "cell_type": "raw",
   "id": "c93cc3c2",
   "metadata": {},
   "source": [
    "fig = px.bar(feat_importances.sort_values(by=0, ascending=False).head(16), 'index', 0)\n",
    "fig.show()"
   ]
  },
  {
   "cell_type": "raw",
   "id": "c329c899",
   "metadata": {},
   "source": [
    "model = ExtraTreesClassifier()\n",
    "model.fit(Features, label)\n",
    "# print(model.feature_importances_)\n",
    "feat_importances = pd.Series(model.feature_importances_,index=Features.columns)\n",
    "feat_importances.nlargest(16).plot(kind='barh')\n",
    "plt.show()"
   ]
  },
  {
   "cell_type": "markdown",
   "id": "d73f5fa5",
   "metadata": {},
   "source": [
    "#### Method 3: Random Forest"
   ]
  },
  {
   "cell_type": "raw",
   "id": "9de539eb",
   "metadata": {},
   "source": [
    "from sklearn.ensemble import RandomForestClassifier\n",
    "import numpy.random as nr\n",
    "import sklearn.model_selection as ms\n",
    "inside = ms.KFold(n_splits=10, shuffle=True)\n",
    "# Choosing the best parameter for the classifier\n",
    "param_grid = {\"max_features\":[5,10, 15,18,20], \"min_samples_leaf\":[3,5,10,20]}\n",
    "nr.seed(3456)\n",
    "rf_clf = RandomForestClassifier(class_weight = \"balanced\") # balanced class weight will handle the class imbalance\n",
    "nr.seed(4455)\n",
    "rf_clf = ms.GridSearchCV(estimator = rf_clf, param_grid = param_grid, \n",
    "                        cv = inside,\n",
    "                        scoring = 'roc_auc',\n",
    "                        return_train_score=True)\n",
    "rf_clf.fit(X,y)\n",
    "print(rf_clf.best_estimator_.max_features)\n",
    "print(rf_clf.best_estimator_.min_samples_leaf) # Ramdom Forest confirms the number of features to use"
   ]
  },
  {
   "cell_type": "raw",
   "id": "7b5ebdb9",
   "metadata": {},
   "source": [
    "* Per the RandomForest Classifier, best features for the estimation is 15\n",
    "* The feature that comes last based on the outcome of the Tree plot is arrears. Arrears will be exlcuded from the "
   ]
  },
  {
   "cell_type": "markdown",
   "id": "f5a139dd",
   "metadata": {},
   "source": [
    "### Dimension reduction with PCA"
   ]
  },
  {
   "cell_type": "code",
   "execution_count": 44,
   "id": "9fb4733e",
   "metadata": {},
   "outputs": [
    {
     "data": {
      "text/plain": [
       "(35463, 15)"
      ]
     },
     "execution_count": 44,
     "metadata": {},
     "output_type": "execute_result"
    }
   ],
   "source": [
    "pca_choose = skde.PCA(n_components = 15)\n",
    "pca_choose.fit(X_train)\n",
    "Comps = pca_choose.transform(X_train) # Comps is the transformed X_train we will use to train the model\n",
    "Comps.shape"
   ]
  },
  {
   "cell_type": "code",
   "execution_count": null,
   "id": "41569230",
   "metadata": {},
   "outputs": [],
   "source": [
    "y_train.shape , X_train.shape"
   ]
  },
  {
   "cell_type": "markdown",
   "id": "4a67695f",
   "metadata": {},
   "source": [
    "## Comparing models\n",
    "\n",
    "1. Extra Trees Classifier"
   ]
  },
  {
   "cell_type": "code",
   "execution_count": null,
   "id": "b440348f",
   "metadata": {},
   "outputs": [],
   "source": [
    "et = ExtraTreesClassifier(class_weight = \"balanced\") # balanced class weight will handle the class imbalance\n",
    "# Choosing the best parameter for the classifier\n",
    "param_grid = {\"max_features\":[5,10, 15,18,20], \"min_samples_leaf\":[3,5,10,20]}\n",
    "inside = KFold(n_splits=10, shuffle=True, random_state=0)\n",
    "#outside = KFold(n_splits=10, shuffle=True)\n",
    "\n",
    "et = GridSearchCV(estimator = et, param_grid = param_grid, \n",
    "                        cv = inside,\n",
    "                        scoring = 'roc_auc',\n",
    "                        return_train_score=True)\n",
    "et.fit(X_train,y_train)\n",
    "print(et.best_score_)\n",
    "print(et.best_estimator_.min_samples_leaf) \n",
    "print(et.best_params_)\n"
   ]
  },
  {
   "cell_type": "code",
   "execution_count": 45,
   "id": "b83337ff",
   "metadata": {},
   "outputs": [
    {
     "data": {
      "text/plain": [
       "ExtraTreesClassifier(max_features=15, min_samples_leaf=3)"
      ]
     },
     "execution_count": 45,
     "metadata": {},
     "output_type": "execute_result"
    }
   ],
   "source": [
    "# Build the model after choosing the optimal parameters\n",
    "ET =ExtraTreesClassifier(max_features=15, min_samples_leaf=3)\n",
    "ET.fit(Comps, y_train) #(X_train, y_train)"
   ]
  },
  {
   "cell_type": "code",
   "execution_count": 46,
   "id": "3991b38e",
   "metadata": {},
   "outputs": [
    {
     "name": "stdout",
     "output_type": "stream",
     "text": [
      "       new_contract_this_campaign\n",
      "30544                           0\n",
      "38784                           0\n",
      "9029                            1\n",
      "913                             0\n",
      "22424                           0\n",
      "...                           ...\n",
      "4566                            1\n",
      "14282                           1\n",
      "46824                           0\n",
      "28226                           0\n",
      "38137                           0\n",
      "\n",
      "[15199 rows x 1 columns] [0 0 1 ... 0 0 0]\n"
     ]
    }
   ],
   "source": [
    "# Prediction\n",
    "y_pred = ET.predict(pca_choose.transform(X_test)) #(X_test)\n",
    "print(y_test, y_pred)"
   ]
  },
  {
   "cell_type": "code",
   "execution_count": 47,
   "id": "c1d1a5ea",
   "metadata": {},
   "outputs": [
    {
     "name": "stdout",
     "output_type": "stream",
     "text": [
      "Accuracy: 87.24%\n"
     ]
    }
   ],
   "source": [
    "# Accuracy report\n",
    "accuracy = accuracy_score(y_test, y_pred)\n",
    "print(\"Accuracy: %.2f%%\" % (accuracy * 100.0))"
   ]
  },
  {
   "cell_type": "code",
   "execution_count": 48,
   "id": "21610705",
   "metadata": {},
   "outputs": [
    {
     "name": "stdout",
     "output_type": "stream",
     "text": [
      "[[11912   298]\n",
      " [ 1641  1348]]\n"
     ]
    }
   ],
   "source": [
    "# Results of the confusion matrix\n",
    "cm = confusion_matrix(y_test, y_pred)\n",
    "print (cm)"
   ]
  },
  {
   "cell_type": "code",
   "execution_count": 49,
   "id": "fc02de83",
   "metadata": {},
   "outputs": [
    {
     "name": "stdout",
     "output_type": "stream",
     "text": [
      "              precision    recall  f1-score   support\n",
      "\n",
      "           0       0.88      0.98      0.92     12210\n",
      "           1       0.82      0.45      0.58      2989\n",
      "\n",
      "    accuracy                           0.87     15199\n",
      "   macro avg       0.85      0.71      0.75     15199\n",
      "weighted avg       0.87      0.87      0.86     15199\n",
      "\n"
     ]
    }
   ],
   "source": [
    "print(classification_report(y_test, y_pred))"
   ]
  },
  {
   "cell_type": "code",
   "execution_count": 52,
   "id": "095d5595",
   "metadata": {},
   "outputs": [
    {
     "data": {
      "image/png": "[encoded data removed]",
      "text/plain": [
       "<Figure size 576x396 with 2 Axes>"
      ]
     },
     "metadata": {},
     "output_type": "display_data"
    },
    {
     "data": {
      "text/plain": [
       "<AxesSubplot:title={'center':'ExtraTreesClassifier Classification Report'}>"
      ]
     },
     "execution_count": 52,
     "metadata": {},
     "output_type": "execute_result"
    }
   ],
   "source": [
    "from yellowbrick.classifier import ClassificationReport, ROCAUC\n",
    "classes = [1,0]\n",
    "visualizer = ClassificationReport(ET,classes=classes, support=True)\n",
    "visualizer.fit(Comps, y_train) #(X_train, y_train)\n",
    "visualizer.score(pca_choose.transform(X_test), y_test) #(X_test, y_test)\n",
    "visualizer.show()"
   ]
  },
  {
   "cell_type": "code",
   "execution_count": 53,
   "id": "8313819f",
   "metadata": {},
   "outputs": [
    {
     "data": {
      "image/png": "[encoded data removed]",
      "text/plain": [
       "<Figure size 576x396 with 1 Axes>"
      ]
     },
     "metadata": {},
     "output_type": "display_data"
    },
    {
     "data": {
      "text/plain": [
       "<AxesSubplot:title={'center':'ROC Curves for ExtraTreesClassifier'}, xlabel='False Positive Rate', ylabel='True Positive Rate'>"
      ]
     },
     "execution_count": 53,
     "metadata": {},
     "output_type": "execute_result"
    }
   ],
   "source": [
    "visualizer = ROCAUC(ET, classes=classes)\n",
    "visualizer.fit(Comps, y_train) #(X_train, y_train)\n",
    "visualizer.score(pca_choose.transform(X_test), y_test) #(X_test, y_test)\n",
    "visualizer.show()"
   ]
  },
  {
   "cell_type": "markdown",
   "id": "3a4fe78e",
   "metadata": {},
   "source": [
    "#### 2. Logistic Regression with cost-sensitibe classification\n",
    "\n",
    "* Choose a class imbalance\n",
    "* determine the best parameter for C\n"
   ]
  },
  {
   "cell_type": "code",
   "execution_count": 55,
   "id": "d38ae935",
   "metadata": {},
   "outputs": [
    {
     "data": {
      "text/plain": [
       "0.1"
      ]
     },
     "execution_count": 55,
     "metadata": {},
     "output_type": "execute_result"
    }
   ],
   "source": [
    "import numpy.random as nr\n",
    "import sklearn.model_selection as ms\n",
    "from sklearn import linear_model\n",
    "\n",
    "# Estimating the best estimator for the regularization parameter C\n",
    "logistic_mod = linear_model.LogisticRegression(class_weight = \"balanced\", solver='liblinear')\n",
    "nr.seed(123)\n",
    "inside = ms.KFold(n_splits=10, shuffle=True)\n",
    "nr.seed(321)\n",
    "outside = ms.KFold(n_splits=10, shuffle=True)\n",
    "nr.seed(3456)\n",
    "param_grid = {\"C\": [0.1, 1, 10, 100]}\n",
    "clf = ms.GridSearchCV(estimator = logistic_mod, param_grid = param_grid,\n",
    "                     cv = inside,\n",
    "                     scoring = 'roc_auc',\n",
    "                     return_train_score = True)\n",
    "clf.fit(X_train, y_train)\n",
    "clf.best_estimator_.C # The best regularization parameter for \"C\" is 0.1"
   ]
  },
  {
   "cell_type": "code",
   "execution_count": 56,
   "id": "21c9021c",
   "metadata": {},
   "outputs": [
    {
     "name": "stdout",
     "output_type": "stream",
     "text": [
      "[-0.22550625]\n",
      "[[ 0.26449226  0.3704484  -0.00875917 -0.24705867  0.20995019 -0.03992789\n",
      "   0.00459476  0.04680542  0.25341153 -0.12711197 -0.04576773  0.07101622\n",
      "   0.3231694  -0.01731314  0.9220268 ]]\n"
     ]
    }
   ],
   "source": [
    "logistic_mod = linear_model.LogisticRegression(C=0.1, class_weight = \"balanced\", solver='liblinear')\n",
    "logistic_mod.fit(Comps, y_train)\n",
    "print(logistic_mod.intercept_)\n",
    "print(logistic_mod.coef_)"
   ]
  },
  {
   "cell_type": "code",
   "execution_count": 58,
   "id": "aebac02a",
   "metadata": {},
   "outputs": [
    {
     "name": "stdout",
     "output_type": "stream",
     "text": [
      "       new_contract_this_campaign\n",
      "30544                           0\n",
      "38784                           0\n",
      "9029                            1\n",
      "913                             0\n",
      "22424                           0\n",
      "...                           ...\n",
      "4566                            1\n",
      "14282                           1\n",
      "46824                           0\n",
      "28226                           0\n",
      "38137                           0\n",
      "\n",
      "[15199 rows x 1 columns] [0 0 1 ... 0 0 0]\n"
     ]
    }
   ],
   "source": [
    "y_pred = logistic_mod.predict(pca_choose.transform(X_test)) #(X_test)\n",
    "print(y_test, y_pred)"
   ]
  },
  {
   "cell_type": "code",
   "execution_count": 59,
   "id": "cec0d338",
   "metadata": {},
   "outputs": [
    {
     "name": "stdout",
     "output_type": "stream",
     "text": [
      "Accuracy: 67.27%\n"
     ]
    }
   ],
   "source": [
    "# Accuracy report\n",
    "accuracy = accuracy_score(y_test, y_pred)\n",
    "print(\"Accuracy: %.2f%%\" % (accuracy * 100.0))"
   ]
  },
  {
   "cell_type": "code",
   "execution_count": 60,
   "id": "789ccad5",
   "metadata": {},
   "outputs": [
    {
     "name": "stdout",
     "output_type": "stream",
     "text": [
      "[[8256 3954]\n",
      " [1020 1969]]\n"
     ]
    }
   ],
   "source": [
    "# Results of the confusion matrix\n",
    "cm = confusion_matrix(y_test, y_pred)\n",
    "print (cm)"
   ]
  },
  {
   "cell_type": "code",
   "execution_count": 61,
   "id": "bfba9d1b",
   "metadata": {},
   "outputs": [
    {
     "name": "stdout",
     "output_type": "stream",
     "text": [
      "              precision    recall  f1-score   support\n",
      "\n",
      "           0       0.89      0.68      0.77     12210\n",
      "           1       0.33      0.66      0.44      2989\n",
      "\n",
      "    accuracy                           0.67     15199\n",
      "   macro avg       0.61      0.67      0.61     15199\n",
      "weighted avg       0.78      0.67      0.70     15199\n",
      "\n"
     ]
    }
   ],
   "source": [
    "print(classification_report(y_test, y_pred))"
   ]
  },
  {
   "cell_type": "code",
   "execution_count": 62,
   "id": "9aa64549",
   "metadata": {},
   "outputs": [
    {
     "data": {
      "image/png": "[encoded data removed]",
      "text/plain": [
       "<Figure size 576x396 with 2 Axes>"
      ]
     },
     "metadata": {},
     "output_type": "display_data"
    },
    {
     "data": {
      "text/plain": [
       "<AxesSubplot:title={'center':'LogisticRegression Classification Report'}>"
      ]
     },
     "execution_count": 62,
     "metadata": {},
     "output_type": "execute_result"
    }
   ],
   "source": [
    "visualizer = ClassificationReport(logistic_mod,classes=classes, support=True)\n",
    "visualizer.fit(Comps, y_train) #(X_train, y_train)\n",
    "visualizer.score(pca_choose.transform(X_test), y_test) #(X_test, y_test)\n",
    "visualizer.show()"
   ]
  },
  {
   "cell_type": "code",
   "execution_count": 63,
   "id": "f74996b0",
   "metadata": {},
   "outputs": [
    {
     "data": {
      "image/png": "[encoded data removed]",
      "text/plain": [
       "<Figure size 576x396 with 1 Axes>"
      ]
     },
     "metadata": {},
     "output_type": "display_data"
    },
    {
     "data": {
      "text/plain": [
       "<AxesSubplot:title={'center':'ROC Curves for LogisticRegression'}, xlabel='False Positive Rate', ylabel='True Positive Rate'>"
      ]
     },
     "execution_count": 63,
     "metadata": {},
     "output_type": "execute_result"
    }
   ],
   "source": [
    "visualizer = ROCAUC(logistic_mod, classes=classes)\n",
    "visualizer.fit(Comps, y_train) #(X_train, y_train)\n",
    "visualizer.score(pca_choose.transform(X_test), y_test) #(X_test, y_test)\n",
    "visualizer.show()"
   ]
  },
  {
   "cell_type": "code",
   "execution_count": 64,
   "id": "31b16ddf",
   "metadata": {},
   "outputs": [
    {
     "data": {
      "text/plain": [
       "0.27296390182982766"
      ]
     },
     "execution_count": 64,
     "metadata": {},
     "output_type": "execute_result"
    }
   ],
   "source": [
    "## Matthews Correlation coefficient\n",
    "from sklearn.metrics import matthews_corrcoef\n",
    "\n",
    "\n",
    "mcc = matthews_corrcoef(y_test, y_pred) \n",
    "mcc"
   ]
  },
  {
   "cell_type": "markdown",
   "id": "a6a39179",
   "metadata": {},
   "source": [
    "#### 3: Keras"
   ]
  },
  {
   "cell_type": "code",
   "execution_count": 68,
   "id": "376401af",
   "metadata": {},
   "outputs": [],
   "source": [
    "import keras\n",
    "from keras.models import Sequential\n",
    "from keras.layers import Dense\n",
    "from keras.wrappers.scikit_learn import KerasClassifier\n",
    "from sklearn.model_selection import cross_val_score\n",
    "from sklearn.preprocessing import LabelEncoder\n",
    "from sklearn.model_selection import StratifiedKFold"
   ]
  },
  {
   "cell_type": "code",
   "execution_count": 73,
   "id": "3e9462c3",
   "metadata": {},
   "outputs": [],
   "source": [
    "def create_baseline():\n",
    "    model = Sequential()\n",
    "    model.add(Dense(60, input_dim=15, activation='relu'))\n",
    "    model.add(Dense(1, activation='sigmoid'))\n",
    "    model.compile(loss='binary_crossentropy',optimzer='adam', metrics='accuracy')\n",
    "    return model"
   ]
  },
  {
   "cell_type": "code",
   "execution_count": 75,
   "id": "355b8046",
   "metadata": {},
   "outputs": [
    {
     "name": "stdout",
     "output_type": "stream",
     "text": [
      "Baseline: nan% (nan%)\n"
     ]
    }
   ],
   "source": [
    "estimator = KerasClassifier(build_fn=create_baseline, epochs=100, batch_size=5, verbose=0)\n",
    "kfold = StratifiedKFold(n_splits=10, shuffle=True)\n",
    "results = cross_val_score(estimator, Features, label, cv=kfold)\n",
    "print(\"Baseline: %.2f%% (%.2f%%)\" % (results.mean()*100, results.std()*100))"
   ]
  },
  {
   "cell_type": "code",
   "execution_count": 78,
   "id": "bf85445d",
   "metadata": {},
   "outputs": [
    {
     "name": "stdout",
     "output_type": "stream",
     "text": [
      "Epoch 1/50\n",
      "35463/35463 [==============================] - 20s 565us/step - loss: 0.4337 - accuracy: 0.8229\n",
      "Epoch 2/50\n",
      "35463/35463 [==============================] - 21s 592us/step - loss: 0.4246 - accuracy: 0.8277\n",
      "Epoch 3/50\n",
      "35463/35463 [==============================] - 21s 588us/step - loss: 0.4206 - accuracy: 0.8284\n",
      "Epoch 4/50\n",
      "35463/35463 [==============================] - 22s 633us/step - loss: 0.4182 - accuracy: 0.8298\n",
      "Epoch 5/50\n",
      "35463/35463 [==============================] - 23s 655us/step - loss: 0.4173 - accuracy: 0.8292\n",
      "Epoch 6/50\n",
      "35463/35463 [==============================] - 23s 649us/step - loss: 0.4157 - accuracy: 0.8311\n",
      "Epoch 7/50\n",
      "35463/35463 [==============================] - 23s 648us/step - loss: 0.4142 - accuracy: 0.8307\n",
      "Epoch 8/50\n",
      "35463/35463 [==============================] - 21s 587us/step - loss: 0.4137 - accuracy: 0.8312\n",
      "Epoch 9/50\n",
      "35463/35463 [==============================] - 24s 680us/step - loss: 0.4127 - accuracy: 0.8315\n",
      "Epoch 10/50\n",
      "35463/35463 [==============================] - 24s 666us/step - loss: 0.4121 - accuracy: 0.8318\n",
      "Epoch 11/50\n",
      "35463/35463 [==============================] - 24s 675us/step - loss: 0.4119 - accuracy: 0.8325\n",
      "Epoch 12/50\n",
      "35463/35463 [==============================] - 24s 666us/step - loss: 0.4114 - accuracy: 0.8314\n",
      "Epoch 13/50\n",
      "35463/35463 [==============================] - 24s 672us/step - loss: 0.4108 - accuracy: 0.8316\n",
      "Epoch 14/50\n",
      "35463/35463 [==============================] - 24s 672us/step - loss: 0.4099 - accuracy: 0.8321\n",
      "Epoch 15/50\n",
      "35463/35463 [==============================] - 26s 727us/step - loss: 0.4098 - accuracy: 0.8316\n",
      "Epoch 16/50\n",
      "35463/35463 [==============================] - 24s 687us/step - loss: 0.4094 - accuracy: 0.8316\n",
      "Epoch 17/50\n",
      "35463/35463 [==============================] - 23s 636us/step - loss: 0.4085 - accuracy: 0.8328\n",
      "Epoch 18/50\n",
      "35463/35463 [==============================] - 24s 684us/step - loss: 0.4083 - accuracy: 0.8309\n",
      "Epoch 19/50\n",
      "35463/35463 [==============================] - 23s 647us/step - loss: 0.4081 - accuracy: 0.8316\n",
      "Epoch 20/50\n",
      "35463/35463 [==============================] - 22s 633us/step - loss: 0.4080 - accuracy: 0.8328\n",
      "Epoch 21/50\n",
      "35463/35463 [==============================] - 26s 729us/step - loss: 0.4076 - accuracy: 0.8319\n",
      "Epoch 22/50\n",
      "35463/35463 [==============================] - 22s 617us/step - loss: 0.4072 - accuracy: 0.8320\n",
      "Epoch 23/50\n",
      "35463/35463 [==============================] - 25s 714us/step - loss: 0.4073 - accuracy: 0.8322\n",
      "Epoch 24/50\n",
      "35463/35463 [==============================] - 34s 968us/step - loss: 0.4071 - accuracy: 0.8318\n",
      "Epoch 25/50\n",
      "35463/35463 [==============================] - 30s 852us/step - loss: 0.4073 - accuracy: 0.8316\n",
      "Epoch 26/50\n",
      "35463/35463 [==============================] - 27s 775us/step - loss: 0.4073 - accuracy: 0.8318\n",
      "Epoch 27/50\n",
      "35463/35463 [==============================] - 21s 596us/step - loss: 0.4072 - accuracy: 0.8314\n",
      "Epoch 28/50\n",
      "35463/35463 [==============================] - 26s 722us/step - loss: 0.4069 - accuracy: 0.8334\n",
      "Epoch 29/50\n",
      "35463/35463 [==============================] - 25s 700us/step - loss: 0.4066 - accuracy: 0.8332\n",
      "Epoch 30/50\n",
      "35463/35463 [==============================] - 29s 809us/step - loss: 0.4063 - accuracy: 0.8336\n",
      "Epoch 31/50\n",
      "35463/35463 [==============================] - 32s 901us/step - loss: 0.4057 - accuracy: 0.8315\n",
      "Epoch 32/50\n",
      "35463/35463 [==============================] - 28s 786us/step - loss: 0.4058 - accuracy: 0.8326\n",
      "Epoch 33/50\n",
      "35463/35463 [==============================] - 25s 693us/step - loss: 0.4060 - accuracy: 0.8330\n",
      "Epoch 34/50\n",
      "35463/35463 [==============================] - 26s 728us/step - loss: 0.4063 - accuracy: 0.8317\n",
      "Epoch 35/50\n",
      "35463/35463 [==============================] - 28s 796us/step - loss: 0.4054 - accuracy: 0.8338\n",
      "Epoch 36/50\n",
      "35463/35463 [==============================] - 28s 791us/step - loss: 0.4059 - accuracy: 0.8338\n",
      "Epoch 37/50\n",
      "35463/35463 [==============================] - 26s 747us/step - loss: 0.4057 - accuracy: 0.8329\n",
      "Epoch 38/50\n",
      "35463/35463 [==============================] - 26s 724us/step - loss: 0.4056 - accuracy: 0.8337\n",
      "Epoch 39/50\n",
      "35463/35463 [==============================] - 25s 699us/step - loss: 0.4055 - accuracy: 0.8337\n",
      "Epoch 40/50\n",
      "35463/35463 [==============================] - 27s 751us/step - loss: 0.4051 - accuracy: 0.8341\n",
      "Epoch 41/50\n",
      "35463/35463 [==============================] - 26s 743us/step - loss: 0.4054 - accuracy: 0.8341\n",
      "Epoch 42/50\n",
      "35463/35463 [==============================] - 25s 709us/step - loss: 0.4049 - accuracy: 0.8332\n",
      "Epoch 43/50\n",
      "35463/35463 [==============================] - 25s 696us/step - loss: 0.4052 - accuracy: 0.8332\n",
      "Epoch 44/50\n",
      "35463/35463 [==============================] - 27s 754us/step - loss: 0.4051 - accuracy: 0.8342\n",
      "Epoch 45/50\n",
      "35463/35463 [==============================] - 31s 874us/step - loss: 0.4050 - accuracy: 0.8338\n",
      "Epoch 46/50\n",
      "35463/35463 [==============================] - 29s 805us/step - loss: 0.4045 - accuracy: 0.8335\n",
      "Epoch 47/50\n",
      "35463/35463 [==============================] - 27s 763us/step - loss: 0.4048 - accuracy: 0.8332\n",
      "Epoch 48/50\n",
      "35463/35463 [==============================] - 23s 653us/step - loss: 0.4049 - accuracy: 0.8332\n",
      "Epoch 49/50\n",
      "35463/35463 [==============================] - 26s 736us/step - loss: 0.4049 - accuracy: 0.8333\n",
      "Epoch 50/50\n",
      "35463/35463 [==============================] - 25s 714us/step - loss: 0.4044 - accuracy: 0.8323\n",
      "475/475 [==============================] - 1s 587us/step - loss: 0.4227 - accuracy: 0.8265\n",
      "Test accuracy:  0.4227184057235718 0.826501727104187\n"
     ]
    }
   ],
   "source": [
    "import tensorflow as tf\n",
    "m = Sequential([\n",
    "    keras.layers.Flatten(input_shape=(15,)),\n",
    "    keras.layers.Dense(16, activation=tf.nn.relu),\n",
    "    keras.layers.Dense(16, activation=tf.nn.relu),\n",
    "    keras.layers.Dense(1, activation=tf.nn.sigmoid),\n",
    "    ])\n",
    "\n",
    "m.compile(optimizer='adam',\n",
    "         loss='binary_crossentropy', metrics=['accuracy'])\n",
    "m.fit(Comps, y_train, epochs=50, batch_size=1)\n",
    "test_loss, test_acc =m.evaluate(pca_choose.transform(X_test), y_test)\n",
    "print('Test accuracy: ', test_loss, test_acc)"
   ]
  },
  {
   "cell_type": "raw",
   "id": "e2ff8832",
   "metadata": {},
   "source": [
    "* Accuracy  = 0.8265\n",
    "* Optimize the epochs, the number of layers or the number of nodes per layer"
   ]
  },
  {
   "cell_type": "code",
   "execution_count": 79,
   "id": "e4976cfa",
   "metadata": {
    "scrolled": true
   },
   "outputs": [
    {
     "name": "stdout",
     "output_type": "stream",
     "text": [
      "       new_contract_this_campaign\n",
      "30544                           0\n",
      "38784                           0\n",
      "9029                            1\n",
      "913                             0\n",
      "22424                           0\n",
      "...                           ...\n",
      "4566                            1\n",
      "14282                           1\n",
      "46824                           0\n",
      "28226                           0\n",
      "38137                           0\n",
      "\n",
      "[15199 rows x 1 columns] [[0.10100952]\n",
      " [0.05610985]\n",
      " [0.28152218]\n",
      " ...\n",
      " [0.08499274]\n",
      " [0.04856768]\n",
      " [0.1607177 ]]\n"
     ]
    }
   ],
   "source": [
    "y_pred = m.predict(pca_choose.transform(X_test)) #(X_test)\n",
    "print(y_test, y_pred)"
   ]
  },
  {
   "cell_type": "code",
   "execution_count": 81,
   "id": "45b35e18",
   "metadata": {
    "scrolled": false
   },
   "outputs": [
    {
     "name": "stdout",
     "output_type": "stream",
     "text": [
      "Epoch 1/70\n",
      "7093/7093 [==============================] - 25s 3ms/step - loss: 0.4373 - accuracy: 0.8185\n",
      "Epoch 2/70\n",
      "7093/7093 [==============================] - 25s 4ms/step - loss: 0.4231 - accuracy: 0.8268\n",
      "Epoch 3/70\n",
      "7093/7093 [==============================] - 14s 2ms/step - loss: 0.4199 - accuracy: 0.8276\n",
      "Epoch 4/70\n",
      "7093/7093 [==============================] - 12s 2ms/step - loss: 0.4178 - accuracy: 0.8295\n",
      "Epoch 5/70\n",
      "7093/7093 [==============================] - 14s 2ms/step - loss: 0.4159 - accuracy: 0.8291\n",
      "Epoch 6/70\n",
      "7093/7093 [==============================] - 15s 2ms/step - loss: 0.4148 - accuracy: 0.8301\n",
      "Epoch 7/70\n",
      "7093/7093 [==============================] - 14s 2ms/step - loss: 0.4137 - accuracy: 0.8295\n",
      "Epoch 8/70\n",
      "7093/7093 [==============================] - 16s 2ms/step - loss: 0.4129 - accuracy: 0.8300\n",
      "Epoch 9/70\n",
      "7093/7093 [==============================] - 20s 3ms/step - loss: 0.4121 - accuracy: 0.8305\n",
      "Epoch 10/70\n",
      "7093/7093 [==============================] - 21s 3ms/step - loss: 0.4118 - accuracy: 0.8313\n",
      "Epoch 11/70\n",
      "7093/7093 [==============================] - 25s 4ms/step - loss: 0.4111 - accuracy: 0.8314\n",
      "Epoch 12/70\n",
      "7093/7093 [==============================] - 23s 3ms/step - loss: 0.4103 - accuracy: 0.8318\n",
      "Epoch 13/70\n",
      "7093/7093 [==============================] - 24s 3ms/step - loss: 0.4101 - accuracy: 0.8309\n",
      "Epoch 14/70\n",
      "7093/7093 [==============================] - 24s 3ms/step - loss: 0.4092 - accuracy: 0.8314\n",
      "Epoch 15/70\n",
      "7093/7093 [==============================] - 21s 3ms/step - loss: 0.4092 - accuracy: 0.8318\n",
      "Epoch 16/70\n",
      "7093/7093 [==============================] - 16s 2ms/step - loss: 0.4082 - accuracy: 0.8320\n",
      "Epoch 17/70\n",
      "7093/7093 [==============================] - 18s 3ms/step - loss: 0.4075 - accuracy: 0.8325\n",
      "Epoch 18/70\n",
      "7093/7093 [==============================] - 18s 3ms/step - loss: 0.4070 - accuracy: 0.8324\n",
      "Epoch 19/70\n",
      "7093/7093 [==============================] - 24s 3ms/step - loss: 0.4070 - accuracy: 0.8314\n",
      "Epoch 20/70\n",
      "7093/7093 [==============================] - 24s 3ms/step - loss: 0.4058 - accuracy: 0.8320\n",
      "Epoch 21/70\n",
      "7093/7093 [==============================] - 24s 3ms/step - loss: 0.4057 - accuracy: 0.8334\n",
      "Epoch 22/70\n",
      "7093/7093 [==============================] - 17s 2ms/step - loss: 0.4049 - accuracy: 0.8332\n",
      "Epoch 23/70\n",
      "7093/7093 [==============================] - 22s 3ms/step - loss: 0.4048 - accuracy: 0.8339\n",
      "Epoch 24/70\n",
      "7093/7093 [==============================] - 16s 2ms/step - loss: 0.4043 - accuracy: 0.8340\n",
      "Epoch 25/70\n",
      "7093/7093 [==============================] - 17s 2ms/step - loss: 0.4034 - accuracy: 0.8340\n",
      "Epoch 26/70\n",
      "7093/7093 [==============================] - 20s 3ms/step - loss: 0.4029 - accuracy: 0.8336\n",
      "Epoch 27/70\n",
      "7093/7093 [==============================] - 20s 3ms/step - loss: 0.4022 - accuracy: 0.8343\n",
      "Epoch 28/70\n",
      "7093/7093 [==============================] - 19s 3ms/step - loss: 0.4023 - accuracy: 0.8329\n",
      "Epoch 29/70\n",
      "7093/7093 [==============================] - 21s 3ms/step - loss: 0.4018 - accuracy: 0.8341\n",
      "Epoch 30/70\n",
      "7093/7093 [==============================] - 20s 3ms/step - loss: 0.4014 - accuracy: 0.8351\n",
      "Epoch 31/70\n",
      "7093/7093 [==============================] - 20s 3ms/step - loss: 0.4017 - accuracy: 0.8350\n",
      "Epoch 32/70\n",
      "7093/7093 [==============================] - 18s 3ms/step - loss: 0.4013 - accuracy: 0.8352\n",
      "Epoch 33/70\n",
      "7093/7093 [==============================] - 21s 3ms/step - loss: 0.4009 - accuracy: 0.8340\n",
      "Epoch 34/70\n",
      "7093/7093 [==============================] - 20s 3ms/step - loss: 0.4003 - accuracy: 0.8352\n",
      "Epoch 35/70\n",
      "7093/7093 [==============================] - 18s 3ms/step - loss: 0.4004 - accuracy: 0.8347\n",
      "Epoch 36/70\n",
      "7093/7093 [==============================] - 22s 3ms/step - loss: 0.4000 - accuracy: 0.8344\n",
      "Epoch 37/70\n",
      "7093/7093 [==============================] - 20s 3ms/step - loss: 0.3996 - accuracy: 0.8352\n",
      "Epoch 38/70\n",
      "7093/7093 [==============================] - 20s 3ms/step - loss: 0.4002 - accuracy: 0.8357\n",
      "Epoch 39/70\n",
      "7093/7093 [==============================] - 21s 3ms/step - loss: 0.3997 - accuracy: 0.8352\n",
      "Epoch 40/70\n",
      "7093/7093 [==============================] - 21s 3ms/step - loss: 0.3993 - accuracy: 0.8348\n",
      "Epoch 41/70\n",
      "7093/7093 [==============================] - 24s 3ms/step - loss: 0.3997 - accuracy: 0.8353\n",
      "Epoch 42/70\n",
      "7093/7093 [==============================] - 19s 3ms/step - loss: 0.3992 - accuracy: 0.8368\n",
      "Epoch 43/70\n",
      "7093/7093 [==============================] - 21s 3ms/step - loss: 0.3993 - accuracy: 0.8353\n",
      "Epoch 44/70\n",
      "7093/7093 [==============================] - 20s 3ms/step - loss: 0.3992 - accuracy: 0.8363\n",
      "Epoch 45/70\n",
      "7093/7093 [==============================] - 20s 3ms/step - loss: 0.3986 - accuracy: 0.8363\n",
      "Epoch 46/70\n",
      "7093/7093 [==============================] - 21s 3ms/step - loss: 0.3984 - accuracy: 0.8359\n",
      "Epoch 47/70\n",
      "7093/7093 [==============================] - 22s 3ms/step - loss: 0.3984 - accuracy: 0.8362\n",
      "Epoch 48/70\n",
      "7093/7093 [==============================] - 21s 3ms/step - loss: 0.3980 - accuracy: 0.8358\n",
      "Epoch 49/70\n",
      "7093/7093 [==============================] - 20s 3ms/step - loss: 0.3978 - accuracy: 0.8353\n",
      "Epoch 50/70\n",
      "7093/7093 [==============================] - 20s 3ms/step - loss: 0.3974 - accuracy: 0.8359\n",
      "Epoch 51/70\n",
      "7093/7093 [==============================] - 21s 3ms/step - loss: 0.3975 - accuracy: 0.8365\n",
      "Epoch 52/70\n",
      "7093/7093 [==============================] - 18s 3ms/step - loss: 0.3971 - accuracy: 0.8367\n",
      "Epoch 53/70\n",
      "7093/7093 [==============================] - 17s 2ms/step - loss: 0.3971 - accuracy: 0.8364\n",
      "Epoch 54/70\n",
      "7093/7093 [==============================] - 17s 2ms/step - loss: 0.3969 - accuracy: 0.8361\n",
      "Epoch 55/70\n",
      "7093/7093 [==============================] - 19s 3ms/step - loss: 0.3968 - accuracy: 0.8366\n",
      "Epoch 56/70\n",
      "7093/7093 [==============================] - 18s 2ms/step - loss: 0.3971 - accuracy: 0.8353\n",
      "Epoch 57/70\n",
      "7093/7093 [==============================] - 20s 3ms/step - loss: 0.3966 - accuracy: 0.8361\n",
      "Epoch 58/70\n",
      "7093/7093 [==============================] - 18s 3ms/step - loss: 0.3965 - accuracy: 0.8359\n",
      "Epoch 59/70\n",
      "7093/7093 [==============================] - 17s 2ms/step - loss: 0.3964 - accuracy: 0.8372\n",
      "Epoch 60/70\n",
      "7093/7093 [==============================] - 17s 2ms/step - loss: 0.3965 - accuracy: 0.8361\n",
      "Epoch 61/70\n",
      "7093/7093 [==============================] - 18s 3ms/step - loss: 0.3961 - accuracy: 0.8369\n",
      "Epoch 62/70\n",
      "7093/7093 [==============================] - 17s 2ms/step - loss: 0.3959 - accuracy: 0.8363\n",
      "Epoch 63/70\n",
      "7093/7093 [==============================] - 18s 2ms/step - loss: 0.3957 - accuracy: 0.8358\n",
      "Epoch 64/70\n",
      "7093/7093 [==============================] - 18s 3ms/step - loss: 0.3960 - accuracy: 0.8365\n",
      "Epoch 65/70\n",
      "7093/7093 [==============================] - 17s 2ms/step - loss: 0.3958 - accuracy: 0.8379\n",
      "Epoch 66/70\n",
      "7093/7093 [==============================] - 18s 3ms/step - loss: 0.3956 - accuracy: 0.8373\n",
      "Epoch 67/70\n",
      "7093/7093 [==============================] - 17s 2ms/step - loss: 0.3957 - accuracy: 0.8366\n",
      "Epoch 68/70\n",
      "7093/7093 [==============================] - 18s 3ms/step - loss: 0.3950 - accuracy: 0.8361\n",
      "Epoch 69/70\n",
      "7093/7093 [==============================] - 18s 3ms/step - loss: 0.3956 - accuracy: 0.8364\n",
      "Epoch 70/70\n",
      "7093/7093 [==============================] - 22s 3ms/step - loss: 0.3952 - accuracy: 0.8368\n",
      "475/475 [==============================] - 2s 3ms/step - loss: 0.4192 - accuracy: 0.8265\n",
      "Test accuracy:  0.826501727104187\n"
     ]
    }
   ],
   "source": [
    "import tensorflow as tf\n",
    "mm = Sequential([\n",
    "    keras.layers.Flatten(input_shape=(15,)),\n",
    "    keras.layers.Dense(16, activation=tf.nn.relu),\n",
    "    keras.layers.Dense(16, activation=tf.nn.relu),\n",
    "    keras.layers.Dense(1, activation=tf.nn.sigmoid),\n",
    "    ])\n",
    "\n",
    "mm.compile(optimizer='adam',\n",
    "         loss='binary_crossentropy', metrics=['accuracy'])\n",
    "mm.fit(Comps, y_train, epochs=70, batch_size=5)\n",
    "test_loss, test_acc =mm.evaluate(pca_choose.transform(X_test), y_test)\n",
    "print('Test accuracy: ', test_acc)"
   ]
  },
  {
   "cell_type": "code",
   "execution_count": 82,
   "id": "b10f81eb",
   "metadata": {},
   "outputs": [
    {
     "name": "stdout",
     "output_type": "stream",
     "text": [
      "Epoch 1/50\n",
      "7093/7093 [==============================] - 15s 2ms/step - loss: 0.4386 - accuracy: 0.8192\n",
      "Epoch 2/50\n",
      "7093/7093 [==============================] - 16s 2ms/step - loss: 0.4231 - accuracy: 0.8283\n",
      "Epoch 3/50\n",
      "7093/7093 [==============================] - 15s 2ms/step - loss: 0.4190 - accuracy: 0.8305\n",
      "Epoch 4/50\n",
      "7093/7093 [==============================] - 14s 2ms/step - loss: 0.4167 - accuracy: 0.8306\n",
      "Epoch 5/50\n",
      "7093/7093 [==============================] - 14s 2ms/step - loss: 0.4149 - accuracy: 0.8315\n",
      "Epoch 6/50\n",
      "7093/7093 [==============================] - 13s 2ms/step - loss: 0.4134 - accuracy: 0.8315\n",
      "Epoch 7/50\n",
      "7093/7093 [==============================] - 14s 2ms/step - loss: 0.4127 - accuracy: 0.8308\n",
      "Epoch 8/50\n",
      "7093/7093 [==============================] - 15s 2ms/step - loss: 0.4111 - accuracy: 0.8311\n",
      "Epoch 9/50\n",
      "7093/7093 [==============================] - 15s 2ms/step - loss: 0.4103 - accuracy: 0.8315\n",
      "Epoch 10/50\n",
      "7093/7093 [==============================] - 14s 2ms/step - loss: 0.4093 - accuracy: 0.8326\n",
      "Epoch 11/50\n",
      "7093/7093 [==============================] - 18s 3ms/step - loss: 0.4084 - accuracy: 0.8324\n",
      "Epoch 12/50\n",
      "7093/7093 [==============================] - 15s 2ms/step - loss: 0.4083 - accuracy: 0.8329\n",
      "Epoch 13/50\n",
      "7093/7093 [==============================] - 16s 2ms/step - loss: 0.4068 - accuracy: 0.8334\n",
      "Epoch 14/50\n",
      "7093/7093 [==============================] - 16s 2ms/step - loss: 0.4064 - accuracy: 0.8321\n",
      "Epoch 15/50\n",
      "7093/7093 [==============================] - 16s 2ms/step - loss: 0.4058 - accuracy: 0.8333\n",
      "Epoch 16/50\n",
      "7093/7093 [==============================] - 16s 2ms/step - loss: 0.4052 - accuracy: 0.8331\n",
      "Epoch 17/50\n",
      "7093/7093 [==============================] - 17s 2ms/step - loss: 0.4041 - accuracy: 0.8341\n",
      "Epoch 18/50\n",
      "7093/7093 [==============================] - 15s 2ms/step - loss: 0.4034 - accuracy: 0.8341\n",
      "Epoch 19/50\n",
      "7093/7093 [==============================] - 16s 2ms/step - loss: 0.4029 - accuracy: 0.8346\n",
      "Epoch 20/50\n",
      "7093/7093 [==============================] - 16s 2ms/step - loss: 0.4022 - accuracy: 0.8347\n",
      "Epoch 21/50\n",
      "7093/7093 [==============================] - 16s 2ms/step - loss: 0.4016 - accuracy: 0.8355\n",
      "Epoch 22/50\n",
      "7093/7093 [==============================] - 16s 2ms/step - loss: 0.4017 - accuracy: 0.8355\n",
      "Epoch 23/50\n",
      "7093/7093 [==============================] - 16s 2ms/step - loss: 0.4008 - accuracy: 0.8355\n",
      "Epoch 24/50\n",
      "7093/7093 [==============================] - 15s 2ms/step - loss: 0.4005 - accuracy: 0.8341\n",
      "Epoch 25/50\n",
      "7093/7093 [==============================] - 18s 2ms/step - loss: 0.3997 - accuracy: 0.8362\n",
      "Epoch 26/50\n",
      "7093/7093 [==============================] - 21s 3ms/step - loss: 0.3994 - accuracy: 0.8354\n",
      "Epoch 27/50\n",
      "7093/7093 [==============================] - 18s 3ms/step - loss: 0.3991 - accuracy: 0.8353\n",
      "Epoch 28/50\n",
      "7093/7093 [==============================] - 16s 2ms/step - loss: 0.3989 - accuracy: 0.8357\n",
      "Epoch 29/50\n",
      "7093/7093 [==============================] - 21s 3ms/step - loss: 0.3984 - accuracy: 0.8370\n",
      "Epoch 30/50\n",
      "7093/7093 [==============================] - 19s 3ms/step - loss: 0.3975 - accuracy: 0.8370\n",
      "Epoch 31/50\n",
      "7093/7093 [==============================] - 19s 3ms/step - loss: 0.3971 - accuracy: 0.8376\n",
      "Epoch 32/50\n",
      "7093/7093 [==============================] - 15s 2ms/step - loss: 0.3977 - accuracy: 0.8372\n",
      "Epoch 33/50\n",
      "7093/7093 [==============================] - 15s 2ms/step - loss: 0.3975 - accuracy: 0.8377\n",
      "Epoch 34/50\n",
      "7093/7093 [==============================] - 17s 2ms/step - loss: 0.3971 - accuracy: 0.8380\n",
      "Epoch 35/50\n",
      "7093/7093 [==============================] - 16s 2ms/step - loss: 0.3964 - accuracy: 0.8369\n",
      "Epoch 36/50\n",
      "7093/7093 [==============================] - 18s 3ms/step - loss: 0.3961 - accuracy: 0.8369\n",
      "Epoch 37/50\n",
      "7093/7093 [==============================] - 20s 3ms/step - loss: 0.3955 - accuracy: 0.8378\n",
      "Epoch 38/50\n",
      "7093/7093 [==============================] - 18s 3ms/step - loss: 0.3958 - accuracy: 0.8374\n",
      "Epoch 39/50\n",
      "7093/7093 [==============================] - 18s 3ms/step - loss: 0.3951 - accuracy: 0.8375\n",
      "Epoch 40/50\n",
      "7093/7093 [==============================] - 16s 2ms/step - loss: 0.3953 - accuracy: 0.8381\n",
      "Epoch 41/50\n",
      "7093/7093 [==============================] - 17s 2ms/step - loss: 0.3954 - accuracy: 0.8390\n",
      "Epoch 42/50\n",
      "7093/7093 [==============================] - 18s 3ms/step - loss: 0.3948 - accuracy: 0.8382\n",
      "Epoch 43/50\n",
      "7093/7093 [==============================] - 21s 3ms/step - loss: 0.3950 - accuracy: 0.8373\n",
      "Epoch 44/50\n",
      "7093/7093 [==============================] - 20s 3ms/step - loss: 0.3944 - accuracy: 0.8384\n",
      "Epoch 45/50\n",
      "7093/7093 [==============================] - 19s 3ms/step - loss: 0.3937 - accuracy: 0.8381\n",
      "Epoch 46/50\n",
      "7093/7093 [==============================] - 20s 3ms/step - loss: 0.3936 - accuracy: 0.8382\n",
      "Epoch 47/50\n",
      "7093/7093 [==============================] - 19s 3ms/step - loss: 0.3932 - accuracy: 0.8392\n",
      "Epoch 48/50\n",
      "7093/7093 [==============================] - 20s 3ms/step - loss: 0.3930 - accuracy: 0.8384\n",
      "Epoch 49/50\n",
      "7093/7093 [==============================] - 19s 3ms/step - loss: 0.3928 - accuracy: 0.8380\n",
      "Epoch 50/50\n",
      "7093/7093 [==============================] - 18s 3ms/step - loss: 0.3931 - accuracy: 0.8384\n",
      "475/475 [==============================] - 2s 3ms/step - loss: 0.4181 - accuracy: 0.8238\n",
      "Test accuracy:  0.8238041996955872\n"
     ]
    }
   ],
   "source": [
    "import tensorflow as tf\n",
    "mmm = Sequential([\n",
    "    keras.layers.Flatten(input_shape=(15,)),\n",
    "    keras.layers.Dense(16, activation=tf.nn.relu),\n",
    "    keras.layers.Dense(16, activation=tf.nn.relu),\n",
    "    keras.layers.Dense(16, activation=tf.nn.relu),\n",
    "    keras.layers.Dense(16, activation=tf.nn.relu),\n",
    "    keras.layers.Dense(1, activation=tf.nn.sigmoid),\n",
    "    ])\n",
    "\n",
    "mmm.compile(optimizer='adam',\n",
    "         loss='binary_crossentropy', metrics=['accuracy'])\n",
    "mmm.fit(Comps, y_train, epochs=50, batch_size=5)\n",
    "test_loss, test_acc =mmm.evaluate(pca_choose.transform(X_test), y_test)\n",
    "print('Test accuracy: ', test_acc)"
   ]
  },
  {
   "cell_type": "code",
   "execution_count": 84,
   "id": "968e7aa0",
   "metadata": {},
   "outputs": [
    {
     "name": "stdout",
     "output_type": "stream",
     "text": [
      "475/475 [==============================] - 1s 2ms/step - loss: 0.4181 - accuracy: 0.8238\n",
      "Test accuracy:  0.41812294721603394 0.8238041996955872\n"
     ]
    }
   ],
   "source": [
    "test_loss, test_acc =mmm.evaluate(pca_choose.transform(X_test), y_test)\n",
    "print('Test accuracy: ', test_loss, test_acc)"
   ]
  },
  {
   "cell_type": "code",
   "execution_count": null,
   "id": "4221a020",
   "metadata": {},
   "outputs": [],
   "source": []
  }
 ],
 "metadata": {
  "kernelspec": {
   "display_name": "Python 3 (ipykernel)",
   "language": "python",
   "name": "python3"
  },
  "language_info": {
   "codemirror_mode": {
    "name": "ipython",
    "version": 3
   },
   "file_extension": ".py",
   "mimetype": "text/x-python",
   "name": "python",
   "nbconvert_exporter": "python",
   "pygments_lexer": "ipython3",
   "version": "3.9.12"
  }
 },
 "nbformat": 4,
 "nbformat_minor": 5
}
